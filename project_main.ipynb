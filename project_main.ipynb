{
 "cells": [
  {
   "cell_type": "markdown",
   "id": "e32a4738",
   "metadata": {},
   "source": [
    "# Проект по анализу ЗП."
   ]
  },
  {
   "cell_type": "markdown",
   "id": "e029c3c7",
   "metadata": {},
   "source": [
    "## Описание данных:"
   ]
  },
  {
   "cell_type": "markdown",
   "id": "a75f9c2d",
   "metadata": {},
   "source": [
    "Для анализа предоставлены данные о видах, стоимости каждой услуги одного из сотрудников Graph Design компании.\n",
    "\n",
    "\n",
    "**Виды услуг:**\n",
    " - Создание сайта,\n",
    " - Логотип, \n",
    " - Инстаграм,\n",
    " - Фейсбук, \n",
    " - Вконтакте,\n",
    " - Чат-бот,\n",
    " - Баннер,\n",
    " - Визитка\n",
    "\n",
    "**Стоимость проектов:**\n",
    " - Создание сайта - 1600 руб.\n",
    " - Логотип - 13831 руб.\n",
    " - Инстаграм - 7990 руб.\n",
    " - Фейсбук - 5320 руб.\n",
    " - Вконтакте - 7990 руб.\n",
    " - Чат-бот - 7820 руб.\n",
    " - Баннер - 2000 руб.\n",
    " - Визитка - 2000 руб.\n"
   ]
  },
  {
   "cell_type": "markdown",
   "id": "85256d83",
   "metadata": {},
   "source": [
    "**Названия столбцов:**\n",
    "\n",
    "\n",
    " - created - Клиент сделал заказ.\n",
    " - start_date - Проект взят в работу.\n",
    " - end_date\t- Проект отдан клиенту.\n",
    " - projects - Название проекта.\t"
   ]
  },
  {
   "cell_type": "markdown",
   "id": "19359dea",
   "metadata": {},
   "source": [
    "**Цель** проекта - проанализировать динамику заработной платы сотрудника, выявить определенные закономерности и тенденции, проиллюстрировать результаты с помощью инструментов визуализации."
   ]
  },
  {
   "cell_type": "markdown",
   "id": "930fd96f",
   "metadata": {},
   "source": [
    "## Обработка данных"
   ]
  },
  {
   "cell_type": "code",
   "execution_count": 1,
   "id": "d26d3215",
   "metadata": {},
   "outputs": [],
   "source": [
    "import pandas as pd\n",
    "import locale\n",
    " \n",
    "from datetime import datetime\n",
    "\n",
    "from dateutil.relativedelta import relativedelta\n",
    "from datetime import date\n",
    "\n",
    "from plotly import graph_objects as go\n",
    "import matplotlib.pyplot as plt\n",
    "\n",
    "import plotly.express as px\n",
    "import warnings\n",
    "warnings.filterwarnings(\"ignore\")\n",
    "\n",
    "from IPython.display import display, HTML\n",
    "from scipy import stats as st\n",
    "\n",
    "import numpy as np\n",
    "import statsmodels.api as sm\n",
    "\n",
    "from statsmodels.formula.api import ols\n",
    "import plotly.io as pio"
   ]
  },
  {
   "cell_type": "code",
   "execution_count": 2,
   "id": "963efc60",
   "metadata": {},
   "outputs": [],
   "source": [
    "data = pd.read_csv('design_data.csv')"
   ]
  },
  {
   "cell_type": "code",
   "execution_count": 3,
   "id": "e8f9fb85",
   "metadata": {},
   "outputs": [],
   "source": [
    "def first_look (df):\n",
    "  '''Функция получения первичной информации о датафрейме'''\n",
    "  print ('------------- Первые 5 строк ------------')\n",
    "  display(df.head())\n",
    "  print('')\n",
    "  print('')\n",
    "  print ('------------- Типы данных ------------')\n",
    "  print (df.info())\n",
    "  print('')\n",
    "  print('')\n",
    "  print ('------------- Пропуски ------------')\n",
    "  count = 0\n",
    "  for element in df.columns:\n",
    "    if df[element].isna().sum() > 0: \n",
    "      print(element, ' - ', df[element].isna().sum(), 'пропусков')\n",
    "      count = +1\n",
    "  if count == 0:\n",
    "    print('Пропусков НЕТ')\n",
    "  print('')\n",
    "  print('')\n",
    "  print ('------------- Дубликаты ------------')\n",
    "  if df.duplicated().sum() > 0:\n",
    "    print('Дубликатов: ', df.duplicated().sum())\n",
    "  else:\n",
    "    print('Дубликатов НЕТ')"
   ]
  },
  {
   "cell_type": "code",
   "execution_count": 4,
   "id": "54ac8ef1",
   "metadata": {},
   "outputs": [
    {
     "name": "stdout",
     "output_type": "stream",
     "text": [
      "------------- Первые 5 строк ------------\n"
     ]
    },
    {
     "data": {
      "text/html": [
       "<div>\n",
       "<style scoped>\n",
       "    .dataframe tbody tr th:only-of-type {\n",
       "        vertical-align: middle;\n",
       "    }\n",
       "\n",
       "    .dataframe tbody tr th {\n",
       "        vertical-align: top;\n",
       "    }\n",
       "\n",
       "    .dataframe thead th {\n",
       "        text-align: right;\n",
       "    }\n",
       "</style>\n",
       "<table border=\"1\" class=\"dataframe\">\n",
       "  <thead>\n",
       "    <tr style=\"text-align: right;\">\n",
       "      <th></th>\n",
       "      <th>created</th>\n",
       "      <th>start_date</th>\n",
       "      <th>end_date</th>\n",
       "      <th>projects</th>\n",
       "    </tr>\n",
       "  </thead>\n",
       "  <tbody>\n",
       "    <tr>\n",
       "      <th>0</th>\n",
       "      <td>04 июля 2023 в 14:52</td>\n",
       "      <td>05 июл 2023</td>\n",
       "      <td>07 июл 2023</td>\n",
       "      <td>логотип</td>\n",
       "    </tr>\n",
       "    <tr>\n",
       "      <th>1</th>\n",
       "      <td>06 июля 2023 в 16:21</td>\n",
       "      <td>06 июл 2023</td>\n",
       "      <td>07 июл 2023</td>\n",
       "      <td>чат-бот</td>\n",
       "    </tr>\n",
       "    <tr>\n",
       "      <th>2</th>\n",
       "      <td>06 июля 2023 в 00:41</td>\n",
       "      <td>06 июл 2023</td>\n",
       "      <td>07 июл 2023</td>\n",
       "      <td>логотип</td>\n",
       "    </tr>\n",
       "    <tr>\n",
       "      <th>3</th>\n",
       "      <td>06 июля 2023 в 12:51</td>\n",
       "      <td>06 июл 2023</td>\n",
       "      <td>07 июл 2023</td>\n",
       "      <td>визитка</td>\n",
       "    </tr>\n",
       "    <tr>\n",
       "      <th>4</th>\n",
       "      <td>07 июля 2023 в 03:01</td>\n",
       "      <td>07 июл 2023</td>\n",
       "      <td>07 июл 2023</td>\n",
       "      <td>facebook</td>\n",
       "    </tr>\n",
       "  </tbody>\n",
       "</table>\n",
       "</div>"
      ],
      "text/plain": [
       "                created   start_date     end_date  projects\n",
       "0  04 июля 2023 в 14:52  05 июл 2023  07 июл 2023   логотип\n",
       "1  06 июля 2023 в 16:21  06 июл 2023  07 июл 2023   чат-бот\n",
       "2  06 июля 2023 в 00:41  06 июл 2023  07 июл 2023   логотип\n",
       "3  06 июля 2023 в 12:51  06 июл 2023  07 июл 2023   визитка\n",
       "4  07 июля 2023 в 03:01  07 июл 2023  07 июл 2023  facebook"
      ]
     },
     "metadata": {},
     "output_type": "display_data"
    },
    {
     "name": "stdout",
     "output_type": "stream",
     "text": [
      "\n",
      "\n",
      "------------- Типы данных ------------\n",
      "<class 'pandas.core.frame.DataFrame'>\n",
      "RangeIndex: 175 entries, 0 to 174\n",
      "Data columns (total 4 columns):\n",
      " #   Column      Non-Null Count  Dtype \n",
      "---  ------      --------------  ----- \n",
      " 0   created     175 non-null    object\n",
      " 1   start_date  175 non-null    object\n",
      " 2   end_date    175 non-null    object\n",
      " 3   projects    175 non-null    object\n",
      "dtypes: object(4)\n",
      "memory usage: 5.6+ KB\n",
      "None\n",
      "\n",
      "\n",
      "------------- Пропуски ------------\n",
      "Пропусков НЕТ\n",
      "\n",
      "\n",
      "------------- Дубликаты ------------\n",
      "Дубликатов:  1\n"
     ]
    }
   ],
   "source": [
    "first_look(data)"
   ]
  },
  {
   "cell_type": "markdown",
   "id": "9b802398",
   "metadata": {},
   "source": [
    "По первой оценке данных видно, что столбцы с датами не приведены к нужному типу, так же как и названия столбцов."
   ]
  },
  {
   "cell_type": "code",
   "execution_count": 5,
   "id": "f794c1e1",
   "metadata": {},
   "outputs": [],
   "source": [
    "data.columns = data.columns.str.lower()"
   ]
  },
  {
   "cell_type": "code",
   "execution_count": 6,
   "id": "b7b38f9e",
   "metadata": {},
   "outputs": [
    {
     "data": {
      "text/html": [
       "<div>\n",
       "<style scoped>\n",
       "    .dataframe tbody tr th:only-of-type {\n",
       "        vertical-align: middle;\n",
       "    }\n",
       "\n",
       "    .dataframe tbody tr th {\n",
       "        vertical-align: top;\n",
       "    }\n",
       "\n",
       "    .dataframe thead th {\n",
       "        text-align: right;\n",
       "    }\n",
       "</style>\n",
       "<table border=\"1\" class=\"dataframe\">\n",
       "  <thead>\n",
       "    <tr style=\"text-align: right;\">\n",
       "      <th></th>\n",
       "      <th>created</th>\n",
       "      <th>start_date</th>\n",
       "      <th>end_date</th>\n",
       "      <th>projects</th>\n",
       "    </tr>\n",
       "  </thead>\n",
       "  <tbody>\n",
       "    <tr>\n",
       "      <th>0</th>\n",
       "      <td>04 июля 2023 в 14:52</td>\n",
       "      <td>05 июл 2023</td>\n",
       "      <td>07 июл 2023</td>\n",
       "      <td>логотип</td>\n",
       "    </tr>\n",
       "    <tr>\n",
       "      <th>1</th>\n",
       "      <td>06 июля 2023 в 16:21</td>\n",
       "      <td>06 июл 2023</td>\n",
       "      <td>07 июл 2023</td>\n",
       "      <td>чат-бот</td>\n",
       "    </tr>\n",
       "    <tr>\n",
       "      <th>2</th>\n",
       "      <td>06 июля 2023 в 00:41</td>\n",
       "      <td>06 июл 2023</td>\n",
       "      <td>07 июл 2023</td>\n",
       "      <td>логотип</td>\n",
       "    </tr>\n",
       "    <tr>\n",
       "      <th>3</th>\n",
       "      <td>06 июля 2023 в 12:51</td>\n",
       "      <td>06 июл 2023</td>\n",
       "      <td>07 июл 2023</td>\n",
       "      <td>визитка</td>\n",
       "    </tr>\n",
       "    <tr>\n",
       "      <th>4</th>\n",
       "      <td>07 июля 2023 в 03:01</td>\n",
       "      <td>07 июл 2023</td>\n",
       "      <td>07 июл 2023</td>\n",
       "      <td>facebook</td>\n",
       "    </tr>\n",
       "  </tbody>\n",
       "</table>\n",
       "</div>"
      ],
      "text/plain": [
       "                created   start_date     end_date  projects\n",
       "0  04 июля 2023 в 14:52  05 июл 2023  07 июл 2023   логотип\n",
       "1  06 июля 2023 в 16:21  06 июл 2023  07 июл 2023   чат-бот\n",
       "2  06 июля 2023 в 00:41  06 июл 2023  07 июл 2023   логотип\n",
       "3  06 июля 2023 в 12:51  06 июл 2023  07 июл 2023   визитка\n",
       "4  07 июля 2023 в 03:01  07 июл 2023  07 июл 2023  facebook"
      ]
     },
     "execution_count": 6,
     "metadata": {},
     "output_type": "execute_result"
    }
   ],
   "source": [
    "data.head()"
   ]
  },
  {
   "cell_type": "code",
   "execution_count": 7,
   "id": "f8c30287",
   "metadata": {},
   "outputs": [],
   "source": [
    "#Уберем предлог \"в\" и время, чтобы привести всю дату к единому формату.\n",
    "data['created'] = data['created'].str.split(' в').str[0]"
   ]
  },
  {
   "cell_type": "code",
   "execution_count": 8,
   "id": "bc0a9c97",
   "metadata": {},
   "outputs": [],
   "source": [
    "locale.setlocale(\n",
    "    category=locale.LC_ALL,\n",
    "    locale=\"Russian\"\n",
    ")\n",
    "\n",
    "data['start_date'] = pd.to_datetime(data['start_date'], format = '%d %b %Y')\n",
    "data['end_date'] = pd.to_datetime(data['end_date'], format = '%d %b %Y')\n",
    "data['created'] = pd.to_datetime(data['end_date'], format = '%d %b %Y')"
   ]
  },
  {
   "cell_type": "code",
   "execution_count": 9,
   "id": "611a662c",
   "metadata": {},
   "outputs": [
    {
     "data": {
      "text/plain": [
       "Timestamp('2023-06-16 00:00:00')"
      ]
     },
     "execution_count": 9,
     "metadata": {},
     "output_type": "execute_result"
    }
   ],
   "source": [
    "data['created'].min()"
   ]
  },
  {
   "cell_type": "code",
   "execution_count": 10,
   "id": "ee3e0a36",
   "metadata": {},
   "outputs": [
    {
     "data": {
      "text/plain": [
       "Timestamp('2023-07-07 00:00:00')"
      ]
     },
     "execution_count": 10,
     "metadata": {},
     "output_type": "execute_result"
    }
   ],
   "source": [
    "data['end_date'].max()"
   ]
  },
  {
   "cell_type": "code",
   "execution_count": 11,
   "id": "c55c3cc2",
   "metadata": {},
   "outputs": [
    {
     "data": {
      "text/plain": [
       "21"
      ]
     },
     "execution_count": 11,
     "metadata": {},
     "output_type": "execute_result"
    }
   ],
   "source": [
    "days = data['end_date'].max()-data['created'].min()\n",
    "days = int(str(days).split(' ')[0])\n",
    "days"
   ]
  },
  {
   "cell_type": "code",
   "execution_count": 12,
   "id": "c9356c87",
   "metadata": {},
   "outputs": [],
   "source": [
    "week = 7"
   ]
  },
  {
   "cell_type": "code",
   "execution_count": 13,
   "id": "134ab583",
   "metadata": {},
   "outputs": [
    {
     "data": {
      "text/plain": [
       "3.0"
      ]
     },
     "execution_count": 13,
     "metadata": {},
     "output_type": "execute_result"
    }
   ],
   "source": [
    "weeks = days/week\n",
    "weeks"
   ]
  },
  {
   "cell_type": "code",
   "execution_count": 14,
   "id": "03ba513e",
   "metadata": {},
   "outputs": [
    {
     "name": "stdout",
     "output_type": "stream",
     "text": [
      "Данные для анализа находятся в промежутке с 2023-06-16 по 2023-07-07, то есть 21 день.\n"
     ]
    }
   ],
   "source": [
    "print(f'Данные для анализа находятся в промежутке с {data.created.min().strftime(\"%Y-%m-%d\")} по {data.end_date.max().strftime(\"%Y-%m-%d\")}, то есть {days} день.')"
   ]
  },
  {
   "cell_type": "code",
   "execution_count": 15,
   "id": "1d99809b",
   "metadata": {},
   "outputs": [
    {
     "data": {
      "text/plain": [
       "создание_сайта    51\n",
       "логотип           44\n",
       "facebook          41\n",
       "чат-бот           30\n",
       "inst               4\n",
       "VK                 3\n",
       "визитка            1\n",
       "баннер             1\n",
       "Name: projects, dtype: int64"
      ]
     },
     "execution_count": 15,
     "metadata": {},
     "output_type": "execute_result"
    }
   ],
   "source": [
    "project = data.projects.value_counts()\n",
    "project"
   ]
  },
  {
   "cell_type": "code",
   "execution_count": 16,
   "id": "1aafba28",
   "metadata": {},
   "outputs": [
    {
     "name": "stdout",
     "output_type": "stream",
     "text": [
      "Больше всего было выполнено проектов по проектам создание_сайта, а также логотип и facebook. Неприоритетными в этом отчетном периоде оказались: баннер, визитка и VK.\n"
     ]
    }
   ],
   "source": [
    "print(f'Больше всего было выполнено проектов по проектам {project.index[0]}, а также {project.index[1]} и {project.index[2]}. Неприоритетными в этом отчетном периоде оказались: {project.index[-1]}, {project.index[-2]} и {project.index[-3]}.')"
   ]
  },
  {
   "cell_type": "markdown",
   "id": "664ed23b",
   "metadata": {},
   "source": [
    "Обратим внимание на стоимость проектов :\n",
    "\n",
    " - Логотип - 13831 руб.\n",
    " - Инстаграм - 7990 руб.\n",
    " - Вконтакте - 7990 руб.\n",
    " - Чат-бот - 7820 руб.\n",
    " - Фейсбук - 5320 руб.\n",
    " - Баннер - 2000 руб.\n",
    " - Визитка - 2000 руб.\n",
    " - Создание сайта - 1600 руб.\n",
    "\n",
    "Для максимизации прибыли необходимо выполнять проекты из первой 3-ки или 5-ки из списка стоимотей проектов. В 3-ке наиболее часто выполняемых проектов: сам проект - самый прибыльный, а также декомпозиция и Выпускной проект, которые соответствуют минимальной и средней стоимости соответственно. \n",
    "\n",
    "С точки зрения максимизации прибыли - ситуация может быть улучшена засчет решения проектов с большей стоимостью, однако на текущей вакансии присутствуют другие обязательные параметры выбора проектов, на которые сотрудник не может повлиять."
   ]
  },
  {
   "cell_type": "markdown",
   "id": "96e0dc70",
   "metadata": {},
   "source": [
    "## Расчеты"
   ]
  },
  {
   "cell_type": "markdown",
   "id": "bb145f3d",
   "metadata": {},
   "source": [
    "Напишем функцию для подсчета ЗП за текущий период."
   ]
  },
  {
   "cell_type": "code",
   "execution_count": 17,
   "id": "679447a1",
   "metadata": {},
   "outputs": [],
   "source": [
    "prices = {\n",
    "    'создание_сайта': 1600,\n",
    "    'логотип': 13830,\n",
    "    'inst': 7990,\n",
    "    'facebook': 5320,\n",
    "    'VK': 7990,\n",
    "    'чат-бот': 7820,\n",
    "    'баннер': 2000,\n",
    "    'визитка': 2000\n",
    "}"
   ]
  },
  {
   "cell_type": "code",
   "execution_count": 18,
   "id": "a403300e",
   "metadata": {},
   "outputs": [],
   "source": [
    "data['income'] = data['projects'].map(prices)"
   ]
  },
  {
   "cell_type": "code",
   "execution_count": 19,
   "id": "8c0c3ff7",
   "metadata": {},
   "outputs": [],
   "source": [
    "salary = data['income'].sum()"
   ]
  },
  {
   "cell_type": "code",
   "execution_count": 20,
   "id": "a94e2844",
   "metadata": {},
   "outputs": [
    {
     "name": "stdout",
     "output_type": "stream",
     "text": [
      " Зарпалата за текущий период без учета налога = 1202770, ЗП с учетом налога = 1130603.8 \n"
     ]
    }
   ],
   "source": [
    "print(f' Зарпалата за текущий период без учета налога = {salary}, ЗП с учетом налога = {round(salary * 0.94,2)} ')"
   ]
  },
  {
   "cell_type": "code",
   "execution_count": 21,
   "id": "e168aa5c",
   "metadata": {},
   "outputs": [
    {
     "name": "stdout",
     "output_type": "stream",
     "text": [
      "Средняя зарплата за неделю составляет 400923 рублей\n"
     ]
    }
   ],
   "source": [
    "sal_week = round(salary/weeks)\n",
    "print(f'Средняя зарплата за неделю составляет {sal_week} рублей')"
   ]
  },
  {
   "cell_type": "code",
   "execution_count": 22,
   "id": "e5b2e8f9",
   "metadata": {},
   "outputs": [
    {
     "name": "stdout",
     "output_type": "stream",
     "text": [
      "Средняя зарплата за день составляет 57274.76 рублей\n"
     ]
    }
   ],
   "source": [
    "sal_day = salary/days\n",
    "print(f'Средняя зарплата за день составляет {round(sal_day,2)} рублей')"
   ]
  },
  {
   "cell_type": "code",
   "execution_count": 23,
   "id": "e7eb4ca8",
   "metadata": {},
   "outputs": [
    {
     "name": "stdout",
     "output_type": "stream",
     "text": [
      "ЗП за 21 день составила - 1202770 руб. без учета налога. С учетом налога: 1130603.8. В среднем получается, что недельный заработок составил 400923 руб, а дневной - 57274.76190476191 руб.\n"
     ]
    }
   ],
   "source": [
    "print(f'ЗП за {days} день составила - {salary} руб. без учета налога. С учетом налога: {round(salary * 0.94,2)}. В среднем получается, что недельный заработок составил {sal_week} руб, а дневной - {sal_day} руб.')"
   ]
  },
  {
   "cell_type": "code",
   "execution_count": 24,
   "id": "6dea37ae",
   "metadata": {},
   "outputs": [
    {
     "name": "stdout",
     "output_type": "stream",
     "text": [
      " Всего за 21 день было сделано 175 проектов\n"
     ]
    }
   ],
   "source": [
    "all_pr = len(data.projects)\n",
    "print(f' Всего за {days} день было сделано {all_pr} проектов')"
   ]
  },
  {
   "cell_type": "code",
   "execution_count": 25,
   "id": "2465e6f6",
   "metadata": {},
   "outputs": [
    {
     "name": "stdout",
     "output_type": "stream",
     "text": [
      " В среднем за неделю выполняется 58.33 проектов\n"
     ]
    }
   ],
   "source": [
    "pr_week = all_pr/3\n",
    "print(f' В среднем за неделю выполняется {round(pr_week,2)} проектов')"
   ]
  },
  {
   "cell_type": "code",
   "execution_count": 26,
   "id": "d0ee47ed",
   "metadata": {},
   "outputs": [
    {
     "name": "stdout",
     "output_type": "stream",
     "text": [
      " В среднем за день выполняется 8.33 проектов\n"
     ]
    }
   ],
   "source": [
    "pr_day = all_pr/21\n",
    "print(f' В среднем за день выполняется {round(pr_day,2)} проектов')"
   ]
  },
  {
   "cell_type": "code",
   "execution_count": 27,
   "id": "20def932",
   "metadata": {},
   "outputs": [
    {
     "name": "stdout",
     "output_type": "stream",
     "text": [
      " В среднем в день 1 проект приносит 6872.97 рублей\n"
     ]
    }
   ],
   "source": [
    "print(f' В среднем в день 1 проект приносит {round(sal_day/pr_day, 2)} рублей')"
   ]
  },
  {
   "cell_type": "code",
   "execution_count": 28,
   "id": "f0a82074",
   "metadata": {},
   "outputs": [
    {
     "data": {
      "text/plain": [
       "start_date\n",
       "2023-06-26    18\n",
       "2023-07-05    16\n",
       "2023-07-02    16\n",
       "2023-07-03    13\n",
       "2023-06-27    12\n",
       "2023-06-22    11\n",
       "2023-06-30     9\n",
       "2023-06-28     8\n",
       "2023-07-06     8\n",
       "2023-06-19     8\n",
       "2023-06-24     8\n",
       "2023-06-16     7\n",
       "2023-06-23     7\n",
       "2023-06-25     6\n",
       "2023-06-29     5\n",
       "2023-07-01     5\n",
       "2023-07-04     4\n",
       "2023-06-20     4\n",
       "2023-06-18     4\n",
       "2023-06-17     3\n",
       "2023-06-21     2\n",
       "2023-07-07     1\n",
       "Name: projects, dtype: int64"
      ]
     },
     "execution_count": 28,
     "metadata": {},
     "output_type": "execute_result"
    }
   ],
   "source": [
    "accepted_pr = data.groupby('start_date')['projects'].count().sort_values(ascending = False)\n",
    "accepted_pr"
   ]
  },
  {
   "cell_type": "code",
   "execution_count": 29,
   "id": "cd0d698c",
   "metadata": {},
   "outputs": [
    {
     "name": "stdout",
     "output_type": "stream",
     "text": [
      "Больше всего проектов было принято 2023-06-26, а также 2023-07-05 и 2023-07-02 от 18 до 16 соответсвенно. Наименее активными оказались 2023-07-07 и 2023-06-21, менее 2 проектов  \n"
     ]
    }
   ],
   "source": [
    "print(f'Больше всего проектов было принято {accepted_pr.index.strftime(\"%Y-%m-%d\")[0]}, а также {accepted_pr.index.strftime(\"%Y-%m-%d\")[1]} и {accepted_pr.index.strftime(\"%Y-%m-%d\")[2]} от {accepted_pr.values[0]} до {accepted_pr.values[2]} соответсвенно. Наименее активными оказались {accepted_pr.index.strftime(\"%Y-%m-%d\")[-1]} и {accepted_pr.index.strftime(\"%Y-%m-%d\")[-2]}, менее {accepted_pr.values[-2]} проектов  ')"
   ]
  },
  {
   "cell_type": "code",
   "execution_count": 30,
   "id": "25107623",
   "metadata": {},
   "outputs": [
    {
     "data": {
      "text/plain": [
       "end_date\n",
       "2023-07-05    20\n",
       "2023-06-22    15\n",
       "2023-07-02    14\n",
       "2023-06-26    14\n",
       "2023-06-27    13\n",
       "2023-06-30    12\n",
       "2023-06-24    11\n",
       "2023-07-06     9\n",
       "2023-07-03     9\n",
       "2023-06-25     8\n",
       "2023-07-04     7\n",
       "2023-06-28     7\n",
       "2023-06-29     6\n",
       "2023-07-07     6\n",
       "2023-06-18     6\n",
       "2023-06-17     5\n",
       "2023-06-19     4\n",
       "2023-06-21     3\n",
       "2023-06-23     2\n",
       "2023-06-16     2\n",
       "2023-07-01     1\n",
       "2023-06-20     1\n",
       "Name: projects, dtype: int64"
      ]
     },
     "execution_count": 30,
     "metadata": {},
     "output_type": "execute_result"
    }
   ],
   "source": [
    "completed_pr = data.groupby('end_date')['projects'].count().sort_values(ascending = False)\n",
    "completed_pr"
   ]
  },
  {
   "cell_type": "code",
   "execution_count": 31,
   "id": "15747b28",
   "metadata": {},
   "outputs": [
    {
     "name": "stdout",
     "output_type": "stream",
     "text": [
      "Завершено проектов больше всего было 2023-07-05 - 20 проектов, а также 2023-06-20. Меньше всего проектов завершилось 2023-06-20,2023-07-01 и 2023-06-16.\n"
     ]
    }
   ],
   "source": [
    "print(f'Завершено проектов больше всего было {completed_pr.index.strftime(\"%Y-%m-%d\")[0]} - {completed_pr.values[0]} проектов, а также {completed_pr.index.strftime(\"%Y-%m-%d\")[-1]}. Меньше всего проектов завершилось {completed_pr.index.strftime(\"%Y-%m-%d\")[-1]},{completed_pr.index.strftime(\"%Y-%m-%d\")[-2]} и {completed_pr.index.strftime(\"%Y-%m-%d\")[-3]}.')"
   ]
  },
  {
   "cell_type": "code",
   "execution_count": 32,
   "id": "f235a609",
   "metadata": {},
   "outputs": [
    {
     "data": {
      "text/plain": [
       "created\n",
       "2023-07-05    20\n",
       "2023-06-22    15\n",
       "2023-07-02    14\n",
       "2023-06-26    14\n",
       "2023-06-27    13\n",
       "2023-06-30    12\n",
       "2023-06-24    11\n",
       "2023-07-06     9\n",
       "2023-07-03     9\n",
       "2023-06-25     8\n",
       "2023-07-04     7\n",
       "2023-06-28     7\n",
       "2023-06-29     6\n",
       "2023-07-07     6\n",
       "2023-06-18     6\n",
       "2023-06-17     5\n",
       "2023-06-19     4\n",
       "2023-06-21     3\n",
       "2023-06-23     2\n",
       "2023-06-16     2\n",
       "2023-07-01     1\n",
       "2023-06-20     1\n",
       "Name: projects, dtype: int64"
      ]
     },
     "execution_count": 32,
     "metadata": {},
     "output_type": "execute_result"
    }
   ],
   "source": [
    "clients = data.groupby('created')['projects'].count().sort_values(ascending = False)\n",
    "clients"
   ]
  },
  {
   "cell_type": "code",
   "execution_count": 33,
   "id": "23e4eb7a",
   "metadata": {},
   "outputs": [
    {
     "name": "stdout",
     "output_type": "stream",
     "text": [
      "Клиенты тоже были активными 2023-07-05 и прислали целых 20 проектов за день, 2023-06-22 тоже был пик, но уже поменьше - 15 проектов. Меньше всего клиенты заказывали проекты в 2023-06-20,2023-07-01 и 2023-06-16  числах.\n"
     ]
    }
   ],
   "source": [
    "print(f'Клиенты тоже были активными {clients.index.strftime(\"%Y-%m-%d\")[0]} и прислали целых {clients.values[0]} проектов за день, {clients.index.strftime(\"%Y-%m-%d\")[1]} тоже был пик, но уже поменьше - {clients.values[1]} проектов. Меньше всего клиенты заказывали проекты в {clients.index.strftime(\"%Y-%m-%d\")[-1]},{clients.index.strftime(\"%Y-%m-%d\")[-2]} и {clients.index.strftime(\"%Y-%m-%d\")[-3]}  числах.')"
   ]
  },
  {
   "cell_type": "code",
   "execution_count": 34,
   "id": "afbb77de",
   "metadata": {},
   "outputs": [
    {
     "name": "stdout",
     "output_type": "stream",
     "text": [
      "Проанализировав активность отдельно по датам, можно сделать вывод, что дизайнер берет проект ,чаще всего, в тот же день, в какой его присылает заказчик. Определенный пик можно наблюдать 2023-07-05 и 2023-06-22. Интересно, связано ли эта активность с днем недели.\n"
     ]
    }
   ],
   "source": [
    "print(f'Проанализировав активность отдельно по датам, можно сделать вывод, что дизайнер берет проект ,чаще всего, в тот же день, в какой его присылает заказчик. Определенный пик можно наблюдать {clients.index.strftime(\"%Y-%m-%d\")[0]} и {clients.index.strftime(\"%Y-%m-%d\")[1]}. Интересно, связано ли эта активность с днем недели.')"
   ]
  },
  {
   "cell_type": "code",
   "execution_count": 35,
   "id": "005e2213",
   "metadata": {},
   "outputs": [],
   "source": [
    "data['week_day_started'] = data['start_date'].dt.day_name()\n",
    "data['week_day_created'] = data['created'].dt.day_name()\n",
    "data['week_day_ended'] = data['end_date'].dt.day_name()"
   ]
  },
  {
   "cell_type": "markdown",
   "id": "d880c7c4",
   "metadata": {},
   "source": [
    "Добавив колонку с днем недели для даты, когда клиент прислал проект, и для даты, когда дизайнер принял проект, теперь можно определить, в какой день недели наибольшая активность."
   ]
  },
  {
   "cell_type": "code",
   "execution_count": 36,
   "id": "3f2faf5c",
   "metadata": {},
   "outputs": [
    {
     "data": {
      "text/html": [
       "<div>\n",
       "<style scoped>\n",
       "    .dataframe tbody tr th:only-of-type {\n",
       "        vertical-align: middle;\n",
       "    }\n",
       "\n",
       "    .dataframe tbody tr th {\n",
       "        vertical-align: top;\n",
       "    }\n",
       "\n",
       "    .dataframe thead th {\n",
       "        text-align: right;\n",
       "    }\n",
       "</style>\n",
       "<table border=\"1\" class=\"dataframe\">\n",
       "  <thead>\n",
       "    <tr style=\"text-align: right;\">\n",
       "      <th></th>\n",
       "      <th>created</th>\n",
       "      <th>start_date</th>\n",
       "      <th>end_date</th>\n",
       "      <th>projects</th>\n",
       "      <th>income</th>\n",
       "      <th>week_day_started</th>\n",
       "      <th>week_day_created</th>\n",
       "      <th>week_day_ended</th>\n",
       "    </tr>\n",
       "  </thead>\n",
       "  <tbody>\n",
       "    <tr>\n",
       "      <th>0</th>\n",
       "      <td>2023-07-07</td>\n",
       "      <td>2023-07-05</td>\n",
       "      <td>2023-07-07</td>\n",
       "      <td>логотип</td>\n",
       "      <td>13830</td>\n",
       "      <td>Wednesday</td>\n",
       "      <td>Friday</td>\n",
       "      <td>Friday</td>\n",
       "    </tr>\n",
       "    <tr>\n",
       "      <th>1</th>\n",
       "      <td>2023-07-07</td>\n",
       "      <td>2023-07-06</td>\n",
       "      <td>2023-07-07</td>\n",
       "      <td>чат-бот</td>\n",
       "      <td>7820</td>\n",
       "      <td>Thursday</td>\n",
       "      <td>Friday</td>\n",
       "      <td>Friday</td>\n",
       "    </tr>\n",
       "    <tr>\n",
       "      <th>2</th>\n",
       "      <td>2023-07-07</td>\n",
       "      <td>2023-07-06</td>\n",
       "      <td>2023-07-07</td>\n",
       "      <td>логотип</td>\n",
       "      <td>13830</td>\n",
       "      <td>Thursday</td>\n",
       "      <td>Friday</td>\n",
       "      <td>Friday</td>\n",
       "    </tr>\n",
       "    <tr>\n",
       "      <th>3</th>\n",
       "      <td>2023-07-07</td>\n",
       "      <td>2023-07-06</td>\n",
       "      <td>2023-07-07</td>\n",
       "      <td>визитка</td>\n",
       "      <td>2000</td>\n",
       "      <td>Thursday</td>\n",
       "      <td>Friday</td>\n",
       "      <td>Friday</td>\n",
       "    </tr>\n",
       "    <tr>\n",
       "      <th>4</th>\n",
       "      <td>2023-07-07</td>\n",
       "      <td>2023-07-07</td>\n",
       "      <td>2023-07-07</td>\n",
       "      <td>facebook</td>\n",
       "      <td>5320</td>\n",
       "      <td>Friday</td>\n",
       "      <td>Friday</td>\n",
       "      <td>Friday</td>\n",
       "    </tr>\n",
       "  </tbody>\n",
       "</table>\n",
       "</div>"
      ],
      "text/plain": [
       "     created start_date   end_date  projects  income week_day_started  \\\n",
       "0 2023-07-07 2023-07-05 2023-07-07   логотип   13830        Wednesday   \n",
       "1 2023-07-07 2023-07-06 2023-07-07   чат-бот    7820         Thursday   \n",
       "2 2023-07-07 2023-07-06 2023-07-07   логотип   13830         Thursday   \n",
       "3 2023-07-07 2023-07-06 2023-07-07   визитка    2000         Thursday   \n",
       "4 2023-07-07 2023-07-07 2023-07-07  facebook    5320           Friday   \n",
       "\n",
       "  week_day_created week_day_ended  \n",
       "0           Friday         Friday  \n",
       "1           Friday         Friday  \n",
       "2           Friday         Friday  \n",
       "3           Friday         Friday  \n",
       "4           Friday         Friday  "
      ]
     },
     "execution_count": 36,
     "metadata": {},
     "output_type": "execute_result"
    }
   ],
   "source": [
    "data.head()"
   ]
  },
  {
   "cell_type": "code",
   "execution_count": 37,
   "id": "282600a0",
   "metadata": {},
   "outputs": [
    {
     "data": {
      "text/html": [
       "<div>\n",
       "<style scoped>\n",
       "    .dataframe tbody tr th:only-of-type {\n",
       "        vertical-align: middle;\n",
       "    }\n",
       "\n",
       "    .dataframe tbody tr th {\n",
       "        vertical-align: top;\n",
       "    }\n",
       "\n",
       "    .dataframe thead th {\n",
       "        text-align: right;\n",
       "    }\n",
       "</style>\n",
       "<table border=\"1\" class=\"dataframe\">\n",
       "  <thead>\n",
       "    <tr style=\"text-align: right;\">\n",
       "      <th></th>\n",
       "      <th>created</th>\n",
       "      <th>start_date</th>\n",
       "      <th>end_date</th>\n",
       "      <th>projects</th>\n",
       "      <th>income</th>\n",
       "      <th>week_day_started</th>\n",
       "      <th>week_day_created</th>\n",
       "      <th>week_day_ended</th>\n",
       "    </tr>\n",
       "  </thead>\n",
       "  <tbody>\n",
       "    <tr>\n",
       "      <th>0</th>\n",
       "      <td>2023-07-07</td>\n",
       "      <td>2023-07-05</td>\n",
       "      <td>2023-07-07</td>\n",
       "      <td>логотип</td>\n",
       "      <td>13830</td>\n",
       "      <td>Wednesday</td>\n",
       "      <td>Friday</td>\n",
       "      <td>Friday</td>\n",
       "    </tr>\n",
       "    <tr>\n",
       "      <th>9</th>\n",
       "      <td>2023-07-06</td>\n",
       "      <td>2023-07-05</td>\n",
       "      <td>2023-07-06</td>\n",
       "      <td>чат-бот</td>\n",
       "      <td>7820</td>\n",
       "      <td>Wednesday</td>\n",
       "      <td>Thursday</td>\n",
       "      <td>Thursday</td>\n",
       "    </tr>\n",
       "    <tr>\n",
       "      <th>14</th>\n",
       "      <td>2023-07-06</td>\n",
       "      <td>2023-07-05</td>\n",
       "      <td>2023-07-06</td>\n",
       "      <td>чат-бот</td>\n",
       "      <td>7820</td>\n",
       "      <td>Wednesday</td>\n",
       "      <td>Thursday</td>\n",
       "      <td>Thursday</td>\n",
       "    </tr>\n",
       "    <tr>\n",
       "      <th>25</th>\n",
       "      <td>2023-07-05</td>\n",
       "      <td>2023-07-05</td>\n",
       "      <td>2023-07-05</td>\n",
       "      <td>facebook</td>\n",
       "      <td>5320</td>\n",
       "      <td>Wednesday</td>\n",
       "      <td>Wednesday</td>\n",
       "      <td>Wednesday</td>\n",
       "    </tr>\n",
       "    <tr>\n",
       "      <th>26</th>\n",
       "      <td>2023-07-05</td>\n",
       "      <td>2023-07-05</td>\n",
       "      <td>2023-07-05</td>\n",
       "      <td>создание_сайта</td>\n",
       "      <td>1600</td>\n",
       "      <td>Wednesday</td>\n",
       "      <td>Wednesday</td>\n",
       "      <td>Wednesday</td>\n",
       "    </tr>\n",
       "  </tbody>\n",
       "</table>\n",
       "</div>"
      ],
      "text/plain": [
       "      created start_date   end_date        projects  income week_day_started  \\\n",
       "0  2023-07-07 2023-07-05 2023-07-07         логотип   13830        Wednesday   \n",
       "9  2023-07-06 2023-07-05 2023-07-06         чат-бот    7820        Wednesday   \n",
       "14 2023-07-06 2023-07-05 2023-07-06         чат-бот    7820        Wednesday   \n",
       "25 2023-07-05 2023-07-05 2023-07-05        facebook    5320        Wednesday   \n",
       "26 2023-07-05 2023-07-05 2023-07-05  создание_сайта    1600        Wednesday   \n",
       "\n",
       "   week_day_created week_day_ended  \n",
       "0            Friday         Friday  \n",
       "9          Thursday       Thursday  \n",
       "14         Thursday       Thursday  \n",
       "25        Wednesday      Wednesday  \n",
       "26        Wednesday      Wednesday  "
      ]
     },
     "execution_count": 37,
     "metadata": {},
     "output_type": "execute_result"
    }
   ],
   "source": [
    "peak_days = data[data.start_date.isin([clients.index[0], clients.index[1]])]\n",
    "peak_days.head()"
   ]
  },
  {
   "cell_type": "code",
   "execution_count": 38,
   "id": "20d22c29",
   "metadata": {},
   "outputs": [
    {
     "name": "stdout",
     "output_type": "stream",
     "text": [
      "Мы видим, что пиковые дни по кол-ву проектов приходятся на 2023-07-05, то есть 13830, и 2023-06-22 - 5320.\n"
     ]
    }
   ],
   "source": [
    "print(f'Мы видим, что пиковые дни по кол-ву проектов приходятся на {clients.index.strftime(\"%Y-%m-%d\")[0]}, то есть {peak_days.iat[0,4]}, и {clients.index.strftime(\"%Y-%m-%d\")[1]} - {peak_days.iat[-1,4]}.')"
   ]
  },
  {
   "cell_type": "code",
   "execution_count": 39,
   "id": "97cc127d",
   "metadata": {},
   "outputs": [
    {
     "data": {
      "text/plain": [
       "week_day_started\n",
       "Monday       39\n",
       "Sunday       26\n",
       "Wednesday    26\n",
       "Friday       24\n",
       "Thursday     24\n",
       "Tuesday      20\n",
       "Saturday     16\n",
       "Name: projects, dtype: int64"
      ]
     },
     "execution_count": 39,
     "metadata": {},
     "output_type": "execute_result"
    }
   ],
   "source": [
    "count_of_pr_per_wd = data.groupby('week_day_started')['projects'].count().sort_values(ascending = False)\n",
    "count_of_pr_per_wd"
   ]
  },
  {
   "cell_type": "code",
   "execution_count": 40,
   "id": "e4761c27",
   "metadata": {},
   "outputs": [
    {
     "name": "stdout",
     "output_type": "stream",
     "text": [
      "Monday - тяжелый день, на него приходится наибольшее кол-во работы. А меньше всего проектов ревьюер проверяет в Saturday и в Tuesday.\n"
     ]
    }
   ],
   "source": [
    "print(f'{count_of_pr_per_wd.index[0]} - тяжелый день, на него приходится наибольшее кол-во работы. А меньше всего проектов ревьюер проверяет в {count_of_pr_per_wd.index[-1]} и в {count_of_pr_per_wd.index[-2]}.')"
   ]
  },
  {
   "cell_type": "code",
   "execution_count": 41,
   "id": "cd6df8d5",
   "metadata": {},
   "outputs": [
    {
     "data": {
      "text/plain": [
       "week_day_created\n",
       "Thursday     30\n",
       "Wednesday    30\n",
       "Sunday       28\n",
       "Monday       27\n",
       "Friday       22\n",
       "Tuesday      21\n",
       "Saturday     17\n",
       "Name: projects, dtype: int64"
      ]
     },
     "execution_count": 41,
     "metadata": {},
     "output_type": "execute_result"
    }
   ],
   "source": [
    "dyn_by_clients = data.groupby('week_day_created')['projects'].count().sort_values(ascending = False)\n",
    "dyn_by_clients"
   ]
  },
  {
   "cell_type": "code",
   "execution_count": 42,
   "id": "f604086d",
   "metadata": {},
   "outputs": [
    {
     "name": "stdout",
     "output_type": "stream",
     "text": [
      "А вот клиенты имеют другую динамику по заказу проектов. Явными лидерами стали - ('Thursday', 'Wednesday'). Меньше всего проектов присылают в Saturday.\n"
     ]
    }
   ],
   "source": [
    "print(f'А вот клиенты имеют другую динамику по заказу проектов. Явными лидерами стали - {dyn_by_clients.index[0], dyn_by_clients.index[1]}. Меньше всего проектов присылают в {dyn_by_clients.index[-1]}.')"
   ]
  },
  {
   "cell_type": "markdown",
   "id": "33574c25",
   "metadata": {},
   "source": [
    "## Визуализация"
   ]
  },
  {
   "cell_type": "markdown",
   "id": "97f9803d",
   "metadata": {},
   "source": [
    "**Дашборд по динамике количества выполненных проектов в разрезе дней**"
   ]
  },
  {
   "cell_type": "code",
   "execution_count": 43,
   "id": "85b23321",
   "metadata": {},
   "outputs": [
    {
     "data": {
      "text/plain": [
       "week_day_ended\n",
       "Thursday     30\n",
       "Wednesday    30\n",
       "Sunday       28\n",
       "Monday       27\n",
       "Friday       22\n",
       "Tuesday      21\n",
       "Saturday     17\n",
       "Name: projects, dtype: int64"
      ]
     },
     "execution_count": 43,
     "metadata": {},
     "output_type": "execute_result"
    }
   ],
   "source": [
    "dynamics = data.groupby('week_day_ended')['projects'].count().sort_values(ascending = False )\n",
    "dynamics"
   ]
  },
  {
   "cell_type": "code",
   "execution_count": 44,
   "id": "4acbd8af",
   "metadata": {},
   "outputs": [],
   "source": [
    "pio.renderers.default = \"svg\"\n",
    "svg_renderer = pio.renderers[\"svg\"]\n",
    "svg_renderer.scale = 1.2"
   ]
  },
  {
   "cell_type": "code",
   "execution_count": 45,
   "id": "e4d62f8b",
   "metadata": {},
   "outputs": [
    {
     "data": {
      "image/svg+xml": [
       "<svg class=\"main-svg\" xmlns=\"http://www.w3.org/2000/svg\" xmlns:xlink=\"http://www.w3.org/1999/xlink\" width=\"840\" height=\"600\" style=\"\" viewBox=\"0 0 700 500\"><rect x=\"0\" y=\"0\" width=\"700\" height=\"500\" style=\"fill: rgb(255, 255, 255); fill-opacity: 1;\"/><defs id=\"defs-d3737e\"><g class=\"clips\"><clipPath id=\"clipd3737exyplot\" class=\"plotclip\"><rect width=\"540\" height=\"301\"/></clipPath><clipPath class=\"axesclip\" id=\"clipd3737ex\"><rect x=\"80\" y=\"0\" width=\"540\" height=\"500\"/></clipPath><clipPath class=\"axesclip\" id=\"clipd3737ey\"><rect x=\"0\" y=\"100\" width=\"700\" height=\"301\"/></clipPath><clipPath class=\"axesclip\" id=\"clipd3737exy\"><rect x=\"80\" y=\"100\" width=\"540\" height=\"301\"/></clipPath></g><g class=\"gradients\"/><g class=\"patterns\"/></defs><g class=\"bglayer\"><rect class=\"bg\" x=\"80\" y=\"100\" width=\"540\" height=\"301\" style=\"fill: rgb(229, 236, 246); fill-opacity: 1; stroke-width: 0;\"/></g><g class=\"layer-below\"><g class=\"imagelayer\"/><g class=\"shapelayer\"/></g><g class=\"cartesianlayer\"><g class=\"subplot xy\"><g class=\"layer-subplot\"><g class=\"shapelayer\"/><g class=\"imagelayer\"/></g><g class=\"minor-gridlayer\"><g class=\"x\"/><g class=\"y\"/></g><g class=\"gridlayer\"><g class=\"x\"/><g class=\"y\"><path class=\"ygrid crisp\" transform=\"translate(0,353.34000000000003)\" d=\"M80,0h540\" style=\"stroke: rgb(255, 255, 255); stroke-opacity: 1; stroke-width: 1px;\"/><path class=\"ygrid crisp\" transform=\"translate(0,305.68)\" d=\"M80,0h540\" style=\"stroke: rgb(255, 255, 255); stroke-opacity: 1; stroke-width: 1px;\"/><path class=\"ygrid crisp\" transform=\"translate(0,258.03)\" d=\"M80,0h540\" style=\"stroke: rgb(255, 255, 255); stroke-opacity: 1; stroke-width: 1px;\"/><path class=\"ygrid crisp\" transform=\"translate(0,210.37)\" d=\"M80,0h540\" style=\"stroke: rgb(255, 255, 255); stroke-opacity: 1; stroke-width: 1px;\"/><path class=\"ygrid crisp\" transform=\"translate(0,162.71)\" d=\"M80,0h540\" style=\"stroke: rgb(255, 255, 255); stroke-opacity: 1; stroke-width: 1px;\"/><path class=\"ygrid crisp\" transform=\"translate(0,115.05)\" d=\"M80,0h540\" style=\"stroke: rgb(255, 255, 255); stroke-opacity: 1; stroke-width: 1px;\"/></g></g><g class=\"zerolinelayer\"><path class=\"yzl zl crisp\" transform=\"translate(0,401)\" d=\"M80,0h540\" style=\"stroke: rgb(255, 255, 255); stroke-opacity: 1; stroke-width: 2px;\"/></g><path class=\"xlines-below\"/><path class=\"ylines-below\"/><g class=\"overlines-below\"/><g class=\"xaxislayer-below\"/><g class=\"yaxislayer-below\"/><g class=\"overaxes-below\"/><g class=\"plot\" transform=\"translate(80,100)\" clip-path=\"url(#clipd3737exyplot)\"><g class=\"barlayer mlayer\"><g class=\"trace bars\" style=\"opacity: 1;\"><g class=\"points\"><g class=\"point\"><path d=\"M7.71,301V15.05H69.43V301Z\" style=\"vector-effect: none; opacity: 1; stroke-width: 0.5px; fill: rgb(99, 110, 250); fill-opacity: 1; stroke: rgb(229, 236, 246); stroke-opacity: 1;\"/></g><g class=\"point\"><path d=\"M84.86,301V15.05H146.57V301Z\" style=\"vector-effect: none; opacity: 1; stroke-width: 0.5px; fill: rgb(99, 110, 250); fill-opacity: 1; stroke: rgb(229, 236, 246); stroke-opacity: 1;\"/></g><g class=\"point\"><path d=\"M162,301V34.11H223.71V301Z\" style=\"vector-effect: none; opacity: 1; stroke-width: 0.5px; fill: rgb(99, 110, 250); fill-opacity: 1; stroke: rgb(229, 236, 246); stroke-opacity: 1;\"/></g><g class=\"point\"><path d=\"M239.14,301V43.64H300.86V301Z\" style=\"vector-effect: none; opacity: 1; stroke-width: 0.5px; fill: rgb(99, 110, 250); fill-opacity: 1; stroke: rgb(229, 236, 246); stroke-opacity: 1;\"/></g><g class=\"point\"><path d=\"M316.29,301V91.3H378V301Z\" style=\"vector-effect: none; opacity: 1; stroke-width: 0.5px; fill: rgb(99, 110, 250); fill-opacity: 1; stroke: rgb(229, 236, 246); stroke-opacity: 1;\"/></g><g class=\"point\"><path d=\"M393.43,301V100.84H455.14V301Z\" style=\"vector-effect: none; opacity: 1; stroke-width: 0.5px; fill: rgb(99, 110, 250); fill-opacity: 1; stroke: rgb(229, 236, 246); stroke-opacity: 1;\"/></g><g class=\"point\"><path d=\"M470.57,301V138.96H532.29V301Z\" style=\"vector-effect: none; opacity: 1; stroke-width: 0.5px; fill: rgb(99, 110, 250); fill-opacity: 1; stroke: rgb(229, 236, 246); stroke-opacity: 1;\"/></g></g></g></g></g><g class=\"overplot\"/><path class=\"xlines-above crisp\" d=\"M0,0\" style=\"fill: none;\"/><path class=\"ylines-above crisp\" d=\"M0,0\" style=\"fill: none;\"/><g class=\"overlines-above\"/><g class=\"xaxislayer-above\"><g class=\"xtick\"><text text-anchor=\"start\" x=\"0\" y=\"414\" transform=\"translate(118.57,0) rotate(45,0,408)\" style=\"font-family: 'Open Sans', verdana, arial, sans-serif; font-size: 12px; fill: rgb(42, 63, 95); fill-opacity: 1; white-space: pre; opacity: 1;\">Thursday</text></g><g class=\"xtick\"><text text-anchor=\"start\" x=\"0\" y=\"414\" transform=\"translate(195.70999999999998,0) rotate(45,0,408)\" style=\"font-family: 'Open Sans', verdana, arial, sans-serif; font-size: 12px; fill: rgb(42, 63, 95); fill-opacity: 1; white-space: pre; opacity: 1;\">Wednesday</text></g><g class=\"xtick\"><text text-anchor=\"start\" x=\"0\" y=\"414\" transform=\"translate(272.86,0) rotate(45,0,408)\" style=\"font-family: 'Open Sans', verdana, arial, sans-serif; font-size: 12px; fill: rgb(42, 63, 95); fill-opacity: 1; white-space: pre; opacity: 1;\">Sunday</text></g><g class=\"xtick\"><text text-anchor=\"start\" x=\"0\" y=\"414\" transform=\"translate(350,0) rotate(45,0,408)\" style=\"font-family: 'Open Sans', verdana, arial, sans-serif; font-size: 12px; fill: rgb(42, 63, 95); fill-opacity: 1; white-space: pre; opacity: 1;\">Monday</text></g><g class=\"xtick\"><text text-anchor=\"start\" x=\"0\" y=\"414\" transform=\"translate(427.14,0) rotate(45,0,408)\" style=\"font-family: 'Open Sans', verdana, arial, sans-serif; font-size: 12px; fill: rgb(42, 63, 95); fill-opacity: 1; white-space: pre; opacity: 1;\">Friday</text></g><g class=\"xtick\"><text text-anchor=\"start\" x=\"0\" y=\"414\" transform=\"translate(504.29,0) rotate(45,0,408)\" style=\"font-family: 'Open Sans', verdana, arial, sans-serif; font-size: 12px; fill: rgb(42, 63, 95); fill-opacity: 1; white-space: pre; opacity: 1;\">Tuesday</text></g><g class=\"xtick\"><text text-anchor=\"start\" x=\"0\" y=\"414\" transform=\"translate(581.4300000000001,0) rotate(45,0,408)\" style=\"font-family: 'Open Sans', verdana, arial, sans-serif; font-size: 12px; fill: rgb(42, 63, 95); fill-opacity: 1; white-space: pre; opacity: 1;\">Saturday</text></g></g><g class=\"yaxislayer-above\"><g class=\"ytick\"><text text-anchor=\"end\" x=\"79\" y=\"4.199999999999999\" transform=\"translate(0,401)\" style=\"font-family: 'Open Sans', verdana, arial, sans-serif; font-size: 12px; fill: rgb(42, 63, 95); fill-opacity: 1; white-space: pre; opacity: 1;\">0</text></g><g class=\"ytick\"><text text-anchor=\"end\" x=\"79\" y=\"4.199999999999999\" style=\"font-family: 'Open Sans', verdana, arial, sans-serif; font-size: 12px; fill: rgb(42, 63, 95); fill-opacity: 1; white-space: pre; opacity: 1;\" transform=\"translate(0,353.34000000000003)\">5</text></g><g class=\"ytick\"><text text-anchor=\"end\" x=\"79\" y=\"4.199999999999999\" style=\"font-family: 'Open Sans', verdana, arial, sans-serif; font-size: 12px; fill: rgb(42, 63, 95); fill-opacity: 1; white-space: pre; opacity: 1;\" transform=\"translate(0,305.68)\">10</text></g><g class=\"ytick\"><text text-anchor=\"end\" x=\"79\" y=\"4.199999999999999\" style=\"font-family: 'Open Sans', verdana, arial, sans-serif; font-size: 12px; fill: rgb(42, 63, 95); fill-opacity: 1; white-space: pre; opacity: 1;\" transform=\"translate(0,258.03)\">15</text></g><g class=\"ytick\"><text text-anchor=\"end\" x=\"79\" y=\"4.199999999999999\" style=\"font-family: 'Open Sans', verdana, arial, sans-serif; font-size: 12px; fill: rgb(42, 63, 95); fill-opacity: 1; white-space: pre; opacity: 1;\" transform=\"translate(0,210.37)\">20</text></g><g class=\"ytick\"><text text-anchor=\"end\" x=\"79\" y=\"4.199999999999999\" style=\"font-family: 'Open Sans', verdana, arial, sans-serif; font-size: 12px; fill: rgb(42, 63, 95); fill-opacity: 1; white-space: pre; opacity: 1;\" transform=\"translate(0,162.71)\">25</text></g><g class=\"ytick\"><text text-anchor=\"end\" x=\"79\" y=\"4.199999999999999\" style=\"font-family: 'Open Sans', verdana, arial, sans-serif; font-size: 12px; fill: rgb(42, 63, 95); fill-opacity: 1; white-space: pre; opacity: 1;\" transform=\"translate(0,115.05)\">30</text></g></g><g class=\"overaxes-above\"/></g></g><g class=\"polarlayer\"/><g class=\"smithlayer\"/><g class=\"ternarylayer\"/><g class=\"geolayer\"/><g class=\"funnelarealayer\"/><g class=\"pielayer\"/><g class=\"iciclelayer\"/><g class=\"treemaplayer\"/><g class=\"sunburstlayer\"/><g class=\"glimages\"/><defs id=\"topdefs-d3737e\"><g class=\"clips\"/></defs><g class=\"layer-above\"><g class=\"imagelayer\"/><g class=\"shapelayer\"/></g><g class=\"infolayer\"><g class=\"g-gtitle\"><text class=\"gtitle\" x=\"35\" y=\"50\" text-anchor=\"start\" dy=\"0em\" style=\"font-family: 'Open Sans', verdana, arial, sans-serif; font-size: 17px; fill: rgb(42, 63, 95); opacity: 1; font-weight: normal; white-space: pre;\">Динамика кол-ва выполненных проектов по дням недели</text></g><g class=\"g-xtitle\"><text class=\"xtitle\" x=\"350\" y=\"487.8078125\" text-anchor=\"middle\" style=\"font-family: 'Open Sans', verdana, arial, sans-serif; font-size: 14px; fill: rgb(42, 63, 95); opacity: 1; font-weight: normal; white-space: pre;\">день недели</text></g><g class=\"g-ytitle\"><text class=\"ytitle\" transform=\"rotate(-90,39.434375,250.5)\" x=\"39.434375\" y=\"250.5\" text-anchor=\"middle\" style=\"font-family: 'Open Sans', verdana, arial, sans-serif; font-size: 14px; fill: rgb(42, 63, 95); opacity: 1; font-weight: normal; white-space: pre;\">кол-во выполненных проектов</text></g></g></svg>"
      ]
     },
     "metadata": {},
     "output_type": "display_data"
    }
   ],
   "source": [
    "fig_ = px.bar(dynamics, x=dynamics.index, y=dynamics, title='Динамика кол-ва выполненных проектов по дням недели', labels=dict(week_day_ended = 'день недели', y='кол-во выполненных проектов'))\n",
    "fig_.update_xaxes(tickangle=45) # повернём подписи по оси X на 50 градусов\n",
    "fig_.show(\"svg\")"
   ]
  },
  {
   "cell_type": "code",
   "execution_count": 46,
   "id": "1ca01474",
   "metadata": {},
   "outputs": [
    {
     "name": "stdout",
     "output_type": "stream",
     "text": [
      "Динамика выполнения проектов говорит о том, что пик завершенных проектов приходится на Thursday и Wednesday - 30 и 30 проектов соответсвенно, к Thursday мы видим минимум выполненных проектов в статусе \"завершено\" - 17 проектов, почти в 1.76 раза меньше, чем пиковое значение. Следовательно можно выделить самые продуктивные дни - Thursday, Wednesday. Sunday и Monday тоже близки к пику - 28 и 27 проектов.\n"
     ]
    }
   ],
   "source": [
    "print(f'Динамика выполнения проектов говорит о том, что пик завершенных проектов приходится на {dynamics.index[0]} и {dynamics.index[1]} - {dynamics.values[0]} и {dynamics.values[1]} проектов соответсвенно, к {dynamics.index[-0]} мы видим минимум выполненных проектов в статусе \"завершено\" - {dynamics.values[-1]} проектов, почти в {round(dynamics.values[0]/dynamics.values[-1],2)} раза меньше, чем пиковое значение. Следовательно можно выделить самые продуктивные дни - {dynamics.index[0]}, {dynamics.index[1]}. {dynamics.index[2]} и {dynamics.index[3]} тоже близки к пику - {dynamics.values[2]} и {dynamics.values[3]} проектов.')"
   ]
  },
  {
   "cell_type": "code",
   "execution_count": 47,
   "id": "daf35fb2",
   "metadata": {},
   "outputs": [
    {
     "data": {
      "text/plain": [
       "end_date\n",
       "2023-07-05    20\n",
       "2023-06-22    15\n",
       "2023-07-02    14\n",
       "2023-06-26    14\n",
       "2023-06-27    13\n",
       "2023-06-30    12\n",
       "2023-06-24    11\n",
       "2023-07-06     9\n",
       "2023-07-03     9\n",
       "2023-06-25     8\n",
       "2023-07-04     7\n",
       "2023-06-28     7\n",
       "2023-06-29     6\n",
       "2023-07-07     6\n",
       "2023-06-18     6\n",
       "2023-06-17     5\n",
       "2023-06-19     4\n",
       "2023-06-21     3\n",
       "2023-06-23     2\n",
       "2023-06-16     2\n",
       "2023-07-01     1\n",
       "2023-06-20     1\n",
       "Name: projects, dtype: int64"
      ]
     },
     "execution_count": 47,
     "metadata": {},
     "output_type": "execute_result"
    }
   ],
   "source": [
    "dyn_per_days = data.groupby('end_date')['projects'].count().sort_values(ascending = False)\n",
    "dyn_per_days"
   ]
  },
  {
   "cell_type": "code",
   "execution_count": 48,
   "id": "715871d9",
   "metadata": {},
   "outputs": [
    {
     "data": {
      "image/png": "[encoded data removed]"
     },
     "metadata": {},
     "output_type": "display_data"
    }
   ],
   "source": [
    "fig = px.bar(dyn_per_days, x=dyn_per_days.index, y=dyn_per_days, title='Динамика кол-ва выполненных проектов датам', labels=dict(end_date = 'дата', y='кол-во выполненных проектов'))\n",
    "fig.update_xaxes(tickangle=50) # повенём подписи по оси X на 50 градусов\n",
    "fig.update_xaxes(tickangle=50, tickmode='linear', dtick='D1')\n",
    "fig.add_hline(y=dyn_per_days.values.mean(), line_width=3, line_dash=\"dash\", line_color=\"red\")\n",
    "fig.show(\"png\")"
   ]
  },
  {
   "cell_type": "markdown",
   "id": "2eea0334",
   "metadata": {},
   "source": [
    "Среднее кол-во проектов за рассматриваемый период составляет около 8-ми проектов. То есть , переходя за отметку 8, сотрудник делает сверхнормы. Таких дней на графике мы видим - 9 из 21.\n",
    "  "
   ]
  },
  {
   "cell_type": "code",
   "execution_count": 49,
   "id": "da7fa7ef",
   "metadata": {},
   "outputs": [
    {
     "name": "stdout",
     "output_type": "stream",
     "text": [
      "Пиковое значение по количеству выполненных проектов приходится на 2023-07-05.Меньше всего проектов было сделано 2023-06-20. Размах составляет 20.0 проектов. В среднем в день было выполнено 7.95 проектов. \n"
     ]
    }
   ],
   "source": [
    "print(f'Пиковое значение по количеству выполненных проектов приходится на {dyn_per_days.index.strftime(\"%Y-%m-%d\")[0]}.Меньше всего проектов было сделано {dyn_per_days.index.strftime(\"%Y-%m-%d\")[-1]}. Размах составляет {round(dyn_per_days.values[0]/dyn_per_days.values[-1],2)} проектов. В среднем в день было выполнено {round(dyn_per_days.values.mean(),2)} проектов. ')"
   ]
  },
  {
   "cell_type": "code",
   "execution_count": 50,
   "id": "5c558d6a",
   "metadata": {},
   "outputs": [],
   "source": [
    "data['month'] = data['end_date'].dt.month"
   ]
  },
  {
   "cell_type": "code",
   "execution_count": 51,
   "id": "af18bafe",
   "metadata": {},
   "outputs": [
    {
     "data": {
      "text/html": [
       "<div>\n",
       "<style scoped>\n",
       "    .dataframe tbody tr th:only-of-type {\n",
       "        vertical-align: middle;\n",
       "    }\n",
       "\n",
       "    .dataframe tbody tr th {\n",
       "        vertical-align: top;\n",
       "    }\n",
       "\n",
       "    .dataframe thead th {\n",
       "        text-align: right;\n",
       "    }\n",
       "</style>\n",
       "<table border=\"1\" class=\"dataframe\">\n",
       "  <thead>\n",
       "    <tr style=\"text-align: right;\">\n",
       "      <th></th>\n",
       "      <th>created</th>\n",
       "      <th>start_date</th>\n",
       "      <th>end_date</th>\n",
       "      <th>projects</th>\n",
       "      <th>income</th>\n",
       "      <th>week_day_started</th>\n",
       "      <th>week_day_created</th>\n",
       "      <th>week_day_ended</th>\n",
       "      <th>month</th>\n",
       "    </tr>\n",
       "  </thead>\n",
       "  <tbody>\n",
       "    <tr>\n",
       "      <th>0</th>\n",
       "      <td>2023-07-07</td>\n",
       "      <td>2023-07-05</td>\n",
       "      <td>2023-07-07</td>\n",
       "      <td>логотип</td>\n",
       "      <td>13830</td>\n",
       "      <td>Wednesday</td>\n",
       "      <td>Friday</td>\n",
       "      <td>Friday</td>\n",
       "      <td>7</td>\n",
       "    </tr>\n",
       "    <tr>\n",
       "      <th>1</th>\n",
       "      <td>2023-07-07</td>\n",
       "      <td>2023-07-06</td>\n",
       "      <td>2023-07-07</td>\n",
       "      <td>чат-бот</td>\n",
       "      <td>7820</td>\n",
       "      <td>Thursday</td>\n",
       "      <td>Friday</td>\n",
       "      <td>Friday</td>\n",
       "      <td>7</td>\n",
       "    </tr>\n",
       "    <tr>\n",
       "      <th>2</th>\n",
       "      <td>2023-07-07</td>\n",
       "      <td>2023-07-06</td>\n",
       "      <td>2023-07-07</td>\n",
       "      <td>логотип</td>\n",
       "      <td>13830</td>\n",
       "      <td>Thursday</td>\n",
       "      <td>Friday</td>\n",
       "      <td>Friday</td>\n",
       "      <td>7</td>\n",
       "    </tr>\n",
       "    <tr>\n",
       "      <th>3</th>\n",
       "      <td>2023-07-07</td>\n",
       "      <td>2023-07-06</td>\n",
       "      <td>2023-07-07</td>\n",
       "      <td>визитка</td>\n",
       "      <td>2000</td>\n",
       "      <td>Thursday</td>\n",
       "      <td>Friday</td>\n",
       "      <td>Friday</td>\n",
       "      <td>7</td>\n",
       "    </tr>\n",
       "    <tr>\n",
       "      <th>4</th>\n",
       "      <td>2023-07-07</td>\n",
       "      <td>2023-07-07</td>\n",
       "      <td>2023-07-07</td>\n",
       "      <td>facebook</td>\n",
       "      <td>5320</td>\n",
       "      <td>Friday</td>\n",
       "      <td>Friday</td>\n",
       "      <td>Friday</td>\n",
       "      <td>7</td>\n",
       "    </tr>\n",
       "  </tbody>\n",
       "</table>\n",
       "</div>"
      ],
      "text/plain": [
       "     created start_date   end_date  projects  income week_day_started  \\\n",
       "0 2023-07-07 2023-07-05 2023-07-07   логотип   13830        Wednesday   \n",
       "1 2023-07-07 2023-07-06 2023-07-07   чат-бот    7820         Thursday   \n",
       "2 2023-07-07 2023-07-06 2023-07-07   логотип   13830         Thursday   \n",
       "3 2023-07-07 2023-07-06 2023-07-07   визитка    2000         Thursday   \n",
       "4 2023-07-07 2023-07-07 2023-07-07  facebook    5320           Friday   \n",
       "\n",
       "  week_day_created week_day_ended  month  \n",
       "0           Friday         Friday      7  \n",
       "1           Friday         Friday      7  \n",
       "2           Friday         Friday      7  \n",
       "3           Friday         Friday      7  \n",
       "4           Friday         Friday      7  "
      ]
     },
     "execution_count": 51,
     "metadata": {},
     "output_type": "execute_result"
    }
   ],
   "source": [
    "data.head()"
   ]
  },
  {
   "cell_type": "code",
   "execution_count": 52,
   "id": "070d9412",
   "metadata": {},
   "outputs": [
    {
     "name": "stdout",
     "output_type": "stream",
     "text": [
      "за 6-й месяц было выполнено - 109 проектов, а за  7-й было выполнено 66 проектов\n"
     ]
    }
   ],
   "source": [
    "months = data.groupby('month')['projects'].count().sort_values(ascending = False )\n",
    "months\n",
    "print(f'за {months.index[0]}-й месяц было выполнено - {months.values[0]} проектов, а за  {months.index[1]}-й было выполнено {months.values[1]} проектов')"
   ]
  },
  {
   "cell_type": "code",
   "execution_count": 53,
   "id": "ca85c7d6",
   "metadata": {},
   "outputs": [
    {
     "data": {
      "image/png": "[encoded data removed]"
     },
     "metadata": {},
     "output_type": "display_data"
    }
   ],
   "source": [
    "fig = go.Figure(data=[go.Pie(labels=months.index, values=months)])\n",
    "fig.update_layout(title_text='Кол-во выполненных проектов по месяцам', title_x= 0.5)\n",
    "fig.show(\"png\") "
   ]
  },
  {
   "cell_type": "markdown",
   "id": "1f4337a7",
   "metadata": {},
   "source": [
    "**Дашборд по заработанной сумме в разрезе дней**"
   ]
  },
  {
   "cell_type": "code",
   "execution_count": 54,
   "id": "9dba2dc5",
   "metadata": {},
   "outputs": [
    {
     "data": {
      "text/html": [
       "<div>\n",
       "<style scoped>\n",
       "    .dataframe tbody tr th:only-of-type {\n",
       "        vertical-align: middle;\n",
       "    }\n",
       "\n",
       "    .dataframe tbody tr th {\n",
       "        vertical-align: top;\n",
       "    }\n",
       "\n",
       "    .dataframe thead th {\n",
       "        text-align: right;\n",
       "    }\n",
       "</style>\n",
       "<table border=\"1\" class=\"dataframe\">\n",
       "  <thead>\n",
       "    <tr style=\"text-align: right;\">\n",
       "      <th></th>\n",
       "      <th>count</th>\n",
       "      <th>sum</th>\n",
       "      <th>%_of_salary</th>\n",
       "    </tr>\n",
       "    <tr>\n",
       "      <th>projects</th>\n",
       "      <th></th>\n",
       "      <th></th>\n",
       "      <th></th>\n",
       "    </tr>\n",
       "  </thead>\n",
       "  <tbody>\n",
       "    <tr>\n",
       "      <th>логотип</th>\n",
       "      <td>44</td>\n",
       "      <td>608520</td>\n",
       "      <td>50.593214</td>\n",
       "    </tr>\n",
       "    <tr>\n",
       "      <th>чат-бот</th>\n",
       "      <td>30</td>\n",
       "      <td>234600</td>\n",
       "      <td>19.504976</td>\n",
       "    </tr>\n",
       "    <tr>\n",
       "      <th>facebook</th>\n",
       "      <td>41</td>\n",
       "      <td>218120</td>\n",
       "      <td>18.134805</td>\n",
       "    </tr>\n",
       "    <tr>\n",
       "      <th>создание_сайта</th>\n",
       "      <td>51</td>\n",
       "      <td>81600</td>\n",
       "      <td>6.784339</td>\n",
       "    </tr>\n",
       "    <tr>\n",
       "      <th>inst</th>\n",
       "      <td>4</td>\n",
       "      <td>31960</td>\n",
       "      <td>2.657200</td>\n",
       "    </tr>\n",
       "    <tr>\n",
       "      <th>VK</th>\n",
       "      <td>3</td>\n",
       "      <td>23970</td>\n",
       "      <td>1.992900</td>\n",
       "    </tr>\n",
       "    <tr>\n",
       "      <th>баннер</th>\n",
       "      <td>1</td>\n",
       "      <td>2000</td>\n",
       "      <td>0.166283</td>\n",
       "    </tr>\n",
       "    <tr>\n",
       "      <th>визитка</th>\n",
       "      <td>1</td>\n",
       "      <td>2000</td>\n",
       "      <td>0.166283</td>\n",
       "    </tr>\n",
       "  </tbody>\n",
       "</table>\n",
       "</div>"
      ],
      "text/plain": [
       "                count     sum  %_of_salary\n",
       "projects                                  \n",
       "логотип            44  608520    50.593214\n",
       "чат-бот            30  234600    19.504976\n",
       "facebook           41  218120    18.134805\n",
       "создание_сайта     51   81600     6.784339\n",
       "inst                4   31960     2.657200\n",
       "VK                  3   23970     1.992900\n",
       "баннер              1    2000     0.166283\n",
       "визитка             1    2000     0.166283"
      ]
     },
     "execution_count": 54,
     "metadata": {},
     "output_type": "execute_result"
    }
   ],
   "source": [
    "profit = data.groupby('projects')['income'].agg(['count','sum'])\n",
    "profit['%_of_salary'] = (profit['sum']/salary)*100\n",
    "profit = profit.sort_values('sum', ascending = False)\n",
    "profit"
   ]
  },
  {
   "cell_type": "code",
   "execution_count": 55,
   "id": "dbf9b152",
   "metadata": {},
   "outputs": [
    {
     "data": {
      "image/png": "[encoded data removed]"
     },
     "metadata": {},
     "output_type": "display_data"
    }
   ],
   "source": [
    "fig3 = px.bar(profit, x=profit.index, y=profit['sum'], title='Динамика ЗП по проектам', labels=dict(projects = 'название проекта', sum='ЗП'))\n",
    "fig3.update_xaxes(tickangle=50) # повернём подписи по оси X на 50 градусов\n",
    "fig3.add_hline(y=profit['sum'].mean(), line_width=3, line_dash=\"dash\", line_color=\"red\")\n",
    "fig3.show(\"png\")"
   ]
  },
  {
   "cell_type": "code",
   "execution_count": 56,
   "id": "3cfab755",
   "metadata": {},
   "outputs": [
    {
     "data": {
      "image/png": "[encoded data removed]"
     },
     "metadata": {},
     "output_type": "display_data"
    }
   ],
   "source": [
    "fig = go.Figure(data=[go.Pie(labels=profit.index, values=profit['%_of_salary'])])\n",
    "fig.update_layout(title_text='Распределение ЗП по проектам', title_x= 0.5)\n",
    "fig.show(\"png\") "
   ]
  },
  {
   "cell_type": "code",
   "execution_count": 57,
   "id": "2fad40b1",
   "metadata": {},
   "outputs": [
    {
     "name": "stdout",
     "output_type": "stream",
     "text": [
      "Наибольший доход принес заказ  логотип - 608520 р., что составило почти  50.59% от общей выручки. На втором месте по доходности оказался проект чат-бот - 234600 р., что составило 19.5% от всей зп. Наименее доходными оказались проекты : визитка и баннер, каждый из которых принес по 2000 и 2000 р. соответственно\n"
     ]
    }
   ],
   "source": [
    "print(f'Наибольший доход принес заказ  {profit.index[0]} - {profit.iat[0,1]} р., что составило почти  {round(profit.iat[0,2],2)}% от общей выручки. На втором месте по доходности оказался проект {profit.index[1]} - {profit.iat[1,1]} р., что составило {round(profit.iat[1,2],2)}% от всей зп. Наименее доходными оказались проекты : {profit.index[-1]} и {profit.index[-2]}, каждый из которых принес по {profit.iat[-1,1]} и {profit.iat[-2,1]} р. соответственно')"
   ]
  },
  {
   "cell_type": "code",
   "execution_count": 58,
   "id": "f248f46b",
   "metadata": {},
   "outputs": [
    {
     "data": {
      "text/plain": [
       "end_date\n",
       "2023-06-22    135860\n",
       "2023-07-05    134700\n",
       "2023-07-02    116880\n",
       "2023-06-24    108360\n",
       "2023-06-30     83420\n",
       "2023-07-06     71520\n",
       "2023-06-25     58570\n",
       "2023-06-26     57220\n",
       "2023-07-04     52160\n",
       "2023-07-07     50790\n",
       "2023-06-29     48100\n",
       "2023-07-03     46510\n",
       "2023-06-27     45470\n",
       "2023-06-18     45220\n",
       "2023-06-28     41880\n",
       "2023-06-17     30170\n",
       "2023-06-21     23250\n",
       "2023-06-23     15430\n",
       "2023-06-16     15430\n",
       "2023-07-01     13830\n",
       "2023-06-19      6400\n",
       "2023-06-20      1600\n",
       "Name: income, dtype: int64"
      ]
     },
     "execution_count": 58,
     "metadata": {},
     "output_type": "execute_result"
    }
   ],
   "source": [
    "income_per_d = data.groupby('end_date')['income'].sum().sort_values(ascending = False)\n",
    "income_per_d"
   ]
  },
  {
   "cell_type": "code",
   "execution_count": 59,
   "id": "f7303a52",
   "metadata": {},
   "outputs": [
    {
     "data": {
      "image/png": "[encoded data removed]"
     },
     "metadata": {},
     "output_type": "display_data"
    }
   ],
   "source": [
    "fig2 = px.bar(income_per_d, x=income_per_d.index, y=income_per_d, title='Динамика по заработанной сумме в разрезе дней', labels=dict(end_date = 'дата', y='доход'))\n",
    "fig2.update_xaxes(tickangle=45) \n",
    "fig2.add_hline(y=income_per_d.values.mean(), line_width=3, line_dash=\"dash\", line_color=\"red\")\n",
    "fig2.update_xaxes(tickangle=50, tickmode='linear', dtick='D1')\n",
    "fig2.show(\"png\")"
   ]
  },
  {
   "cell_type": "markdown",
   "id": "f7b005b3",
   "metadata": {},
   "source": [
    "Говоря о прогнозах на будущее, на основе текущих данных, можно сказать, что постепенно уровень ЗП будет выравниваться до среднего уровня, будет меньше отклонений\\аномальных значений, выше или ниже нормы. Мы по-прежнему будем наблюдать пиковые значения, так как в определенные дни скапливаются все проекты, которые нужно закрыть, и именно за этот день считается прибыль."
   ]
  },
  {
   "cell_type": "code",
   "execution_count": 60,
   "id": "d5313ee1",
   "metadata": {},
   "outputs": [
    {
     "name": "stdout",
     "output_type": "stream",
     "text": [
      "В разрезе дней 06-22 и 07-05 - самые прибыльные дни 135860 р. и 134700 р. соответственно. Меньше всего дохода пришло 06-20 и 06-19, 1600 и 6400 рублей соответственно.\n"
     ]
    }
   ],
   "source": [
    "print(f'В разрезе дней {income_per_d.index.strftime(\"%m-%d\")[0]} и {income_per_d.index.strftime(\"%m-%d\")[1]} - самые прибыльные дни {income_per_d.values[0]} р. и {income_per_d.values[1]} р. соответственно. Меньше всего дохода пришло {income_per_d.index.strftime(\"%m-%d\")[-1]} и {income_per_d.index.strftime(\"%m-%d\")[-2]}, {income_per_d.values[-1]} и {income_per_d.values[-2]} рублей соответственно.')"
   ]
  },
  {
   "cell_type": "code",
   "execution_count": 61,
   "id": "942b820e",
   "metadata": {},
   "outputs": [
    {
     "name": "stdout",
     "output_type": "stream",
     "text": [
      "Средний доход в день составляет примерно 54671.36 рублей, следовательно выше этой суммы сотрудник делает работу сверхнормы\n"
     ]
    }
   ],
   "source": [
    "print(f'Средний доход в день составляет примерно {round(income_per_d.values.mean(),2)} рублей, следовательно выше этой суммы сотрудник делает работу сверхнормы')"
   ]
  },
  {
   "cell_type": "code",
   "execution_count": 62,
   "id": "a1d11b0d",
   "metadata": {},
   "outputs": [
    {
     "data": {
      "text/plain": [
       "week_day_ended\n",
       "Thursday     255480\n",
       "Sunday       220670\n",
       "Wednesday    199830\n",
       "Friday       165070\n",
       "Saturday     152360\n",
       "Monday       110130\n",
       "Tuesday       99230\n",
       "Name: income, dtype: int64"
      ]
     },
     "execution_count": 62,
     "metadata": {},
     "output_type": "execute_result"
    }
   ],
   "source": [
    "income_per_wd = data.groupby('week_day_ended')['income'].sum().sort_values(ascending = False )\n",
    "income_per_wd"
   ]
  },
  {
   "cell_type": "code",
   "execution_count": 63,
   "id": "c13b3034",
   "metadata": {},
   "outputs": [
    {
     "data": {
      "image/png": "[encoded data removed]"
     },
     "metadata": {},
     "output_type": "display_data"
    }
   ],
   "source": [
    "fig4 = px.bar(income_per_wd, x=income_per_wd.index, y=income_per_wd, title='Динамика по заработанной сумме в разрезе дней недели', labels=dict(week_day_ended = 'дни недели', y='доход'))\n",
    "fig4.update_xaxes(tickangle=45) \n",
    "fig4.add_hline(y=income_per_wd.values.mean(), line_width=3, line_dash=\"dash\", line_color=\"red\")\n",
    "fig4.show(\"png\")"
   ]
  },
  {
   "cell_type": "code",
   "execution_count": 64,
   "id": "daf9a71a",
   "metadata": {},
   "outputs": [
    {
     "data": {
      "image/png": "[encoded data removed]"
     },
     "metadata": {},
     "output_type": "display_data"
    }
   ],
   "source": [
    "fig4 = px.bar(income_per_wd, x=income_per_wd.index, y=income_per_wd, title='Динамика по заработанной сумме в разрезе дней недели', labels=dict(week_day_ended = 'дни недели', y='доход'))\n",
    "fig4.update_xaxes(tickangle=45) \n",
    "fig4.add_hline(y=income_per_wd.values.mean(), line_width=3, line_dash=\"dash\", line_color=\"red\")\n",
    "fig4.show('png')"
   ]
  },
  {
   "cell_type": "code",
   "execution_count": 65,
   "id": "7fd4d770",
   "metadata": {},
   "outputs": [
    {
     "name": "stdout",
     "output_type": "stream",
     "text": [
      "Thursday самый доходный день - 255480 руб. было заработано в эти дни, а Tuesday и Monday наименее прибыльны - 99230 и 110130 рублей соответсвенно было получены в каждый из дней. В среднем в эти дни в 2.44 раза меньше было заработка, чем в Thursday\n"
     ]
    }
   ],
   "source": [
    "print(f'{income_per_wd.index[0]} самый доходный день - {income_per_wd.values[0]} руб. было заработано в эти дни, а {income_per_wd.index[-1]} и {income_per_wd.index[-2]} наименее прибыльны - {income_per_wd.values[-1]} и {income_per_wd.values[-2]} рублей соответсвенно было получены в каждый из дней. В среднем в эти дни в {round(income_per_wd.values[0]/((income_per_wd.values[-2]+income_per_wd.values[-1])/2),2)} раза меньше было заработка, чем в {income_per_wd.index[0]}')"
   ]
  },
  {
   "cell_type": "markdown",
   "id": "60171b1c",
   "metadata": {},
   "source": [
    "## Дашборды в Tableau"
   ]
  },
  {
   "cell_type": "markdown",
   "id": "0102d9a6",
   "metadata": {},
   "source": [
    "Динамика прибыли и кол-ва проектов в разрезе дней"
   ]
  },
  {
   "cell_type": "markdown",
   "id": "f385f634",
   "metadata": {},
   "source": [
    "https://public.tableau.com/app/profile/.25533259/viz/1_16907949848390/Dashboard1?publish=yes"
   ]
  },
  {
   "cell_type": "markdown",
   "id": "738ed6a8",
   "metadata": {},
   "source": [
    "Динамика по доходу и кол-ву выполненных проектов в разрезе дат и вида проектов"
   ]
  },
  {
   "cell_type": "markdown",
   "id": "4a663d08",
   "metadata": {},
   "source": [
    "https://public.tableau.com/app/profile/.25533259/viz/2_16907950449170/Dashboard2?publish=yes"
   ]
  },
  {
   "cell_type": "markdown",
   "id": "b63a7169",
   "metadata": {},
   "source": [
    "## Статистика"
   ]
  },
  {
   "cell_type": "markdown",
   "id": "59f1c1bc",
   "metadata": {},
   "source": [
    "**Проверка гипотез с помощью т-теста**"
   ]
  },
  {
   "cell_type": "markdown",
   "id": "ee170aca",
   "metadata": {},
   "source": [
    "За представленный период воскресенья и среды принесли похожий доход: 22 и 19,9 тысяч соответсвенно. Рассмотрим существующие различия с точки зрения статистики."
   ]
  },
  {
   "cell_type": "markdown",
   "id": "a6e48595",
   "metadata": {},
   "source": [
    "Для проверки гипотез используем т-критерий, так как именно он помогает сравнить две выборки между собой на предмет статистически значимых различий. Из существующих уровней значимости выберем 0,05, то есть существует 5% того, что результат обусловлен случайностью."
   ]
  },
  {
   "cell_type": "markdown",
   "id": "288a94cf",
   "metadata": {},
   "source": [
    "Для использования т-теста необходимы 2 условия:\n",
    "\n",
    " - гомогенность дисперсий\n",
    " \n",
    " - Нормальность распределения в группах "
   ]
  },
  {
   "cell_type": "markdown",
   "id": "d81afb26",
   "metadata": {},
   "source": [
    "Проверим для начала распределение в группах на **нормальность:**"
   ]
  },
  {
   "cell_type": "code",
   "execution_count": 66,
   "id": "82464005",
   "metadata": {},
   "outputs": [],
   "source": [
    "wed = data[data['week_day_ended']=='Wednesday']['income']\n",
    "sun = data[data['week_day_ended']=='Sunday']['income']"
   ]
  },
  {
   "cell_type": "code",
   "execution_count": 67,
   "id": "d319407c",
   "metadata": {},
   "outputs": [
    {
     "data": {
      "image/png": "[encoded data removed]",
      "text/plain": [
       "<Figure size 640x480 with 1 Axes>"
      ]
     },
     "metadata": {},
     "output_type": "display_data"
    }
   ],
   "source": [
    "wednesday = wed.values\n",
    "\n",
    "# Построение QQ-plot\n",
    "st.probplot(wednesday, dist=\"norm\", plot=plt)\n",
    "\n",
    "plt.xlabel('Теоретические квантили')\n",
    "plt.ylabel('Наблюдаемые квантили')\n",
    "plt.title('QQ-plot')\n",
    "\n",
    "\n",
    "plt.show()"
   ]
  },
  {
   "cell_type": "code",
   "execution_count": 68,
   "id": "70f4116f",
   "metadata": {},
   "outputs": [
    {
     "data": {
      "image/png": "[encoded data removed]",
      "text/plain": [
       "<Figure size 640x480 with 1 Axes>"
      ]
     },
     "metadata": {},
     "output_type": "display_data"
    }
   ],
   "source": [
    "sunday = sun.values\n",
    "\n",
    "# Построение QQ-plot\n",
    "st.probplot(sunday, dist=\"norm\", plot=plt)\n",
    "\n",
    "plt.xlabel('Теоретические квантили')\n",
    "plt.ylabel('Наблюдаемые квантили')\n",
    "plt.title('QQ-plot')\n",
    "\n",
    "\n",
    "plt.show()"
   ]
  },
  {
   "cell_type": "markdown",
   "id": "44ed88ce",
   "metadata": {},
   "source": [
    "Нам известно, что графики построены по ценам на проекты, поэтому данные распределены ценовыми сегментами в районе 250 , 750 и 1300. Учитывая специфику данных, отклонение от диагонали не так критичны. Следовательно, мы можем использовать данные для проведения т-теста."
   ]
  },
  {
   "cell_type": "markdown",
   "id": "47d2f184",
   "metadata": {},
   "source": [
    "Проверим данные на **гомогенность дисперсий** с помощью теста Левена:"
   ]
  },
  {
   "cell_type": "code",
   "execution_count": 69,
   "id": "9bed69aa",
   "metadata": {},
   "outputs": [
    {
     "data": {
      "text/plain": [
       "LeveneResult(statistic=0.22355924238388647, pvalue=0.6381789467552113)"
      ]
     },
     "execution_count": 69,
     "metadata": {},
     "output_type": "execute_result"
    }
   ],
   "source": [
    "st.levene(wednesday, sunday, center='median')"
   ]
  },
  {
   "cell_type": "markdown",
   "id": "9cbbf91e",
   "metadata": {},
   "source": [
    "P - value имеет показатель > 0,05. Следовательно, мы не отвергаем гипотезу о равенстве дисперсий. Таким образом, параметр о гомогенности дисперсий соблден. -> Можем проводить т-тест."
   ]
  },
  {
   "cell_type": "markdown",
   "id": "a95b7805",
   "metadata": {},
   "source": [
    "**Нулевая гипотеза:** Статистически значимые различия между доходом от сред и вскр-й отсутствуют.\n",
    "    \n",
    "**Альтернативная гипотеза:** Статистически значимые различия между доходом от сред и от вскр-й существуют."
   ]
  },
  {
   "cell_type": "code",
   "execution_count": 70,
   "id": "4705a922",
   "metadata": {},
   "outputs": [
    {
     "name": "stdout",
     "output_type": "stream",
     "text": [
      "p-значение: 0.33098864763669655\n",
      "Не получилось отвергнуть нулевую гипотезу\n"
     ]
    }
   ],
   "source": [
    "# Первая гипотеза\n",
    "\n",
    "alpha = .05\n",
    "\n",
    "results = st.ttest_ind(\n",
    "    wed, \n",
    "    sun)\n",
    "\n",
    "print('p-значение:', results.pvalue)\n",
    "\n",
    "if results.pvalue < alpha:\n",
    "    print(\"Отвергаем нулевую гипотезу\")\n",
    "else:\n",
    "    print(\"Не получилось отвергнуть нулевую гипотезу\")"
   ]
  },
  {
   "cell_type": "markdown",
   "id": "ee8dc9d6",
   "metadata": {},
   "source": [
    "Т-криетрий Стьюдента показал, что статистически значимых различий между доходом от сред и воскресений нет."
   ]
  },
  {
   "cell_type": "markdown",
   "id": "7a1aa6b2",
   "metadata": {},
   "source": [
    "Рассмотрим еще две выборки. Доход за 22 июня и за 5 июля - за самые прибыльные дни. Есть ли между ними статистически значимые различия ?"
   ]
  },
  {
   "cell_type": "markdown",
   "id": "70e9a17c",
   "metadata": {},
   "source": [
    "Для проверки гипотез также используем т-критерий с аналогичным уровнем значимости и проверим аналогичным образом условия для проведения т-теста."
   ]
  },
  {
   "cell_type": "code",
   "execution_count": 71,
   "id": "746170a0",
   "metadata": {},
   "outputs": [],
   "source": [
    "june = data[data['end_date']=='2023-06-22']['income']\n",
    "july = data[data['end_date']=='2023-07-05']['income']"
   ]
  },
  {
   "cell_type": "code",
   "execution_count": 72,
   "id": "d5a96a05",
   "metadata": {},
   "outputs": [
    {
     "data": {
      "image/png": "[encoded data removed]",
      "text/plain": [
       "<Figure size 640x480 with 1 Axes>"
      ]
     },
     "metadata": {},
     "output_type": "display_data"
    }
   ],
   "source": [
    "jun = june.values\n",
    "\n",
    "# Построение QQ-plot\n",
    "st.probplot(jun, dist=\"norm\", plot=plt)\n",
    "\n",
    "plt.xlabel('Теоретические квантили')\n",
    "plt.ylabel('Наблюдаемые квантили')\n",
    "plt.title('QQ-plot')\n",
    "\n",
    "\n",
    "plt.show()"
   ]
  },
  {
   "cell_type": "code",
   "execution_count": 73,
   "id": "15653675",
   "metadata": {},
   "outputs": [
    {
     "data": {
      "image/png": "[encoded data removed]",
      "text/plain": [
       "<Figure size 640x480 with 1 Axes>"
      ]
     },
     "metadata": {},
     "output_type": "display_data"
    }
   ],
   "source": [
    "jul = july.values\n",
    "\n",
    "# Построение QQ-plot\n",
    "st.probplot(jul, dist=\"norm\", plot=plt)\n",
    "\n",
    "plt.xlabel('Теоретические квантили')\n",
    "plt.ylabel('Наблюдаемые квантили')\n",
    "plt.title('QQ-plot')\n",
    "\n",
    "\n",
    "plt.show()"
   ]
  },
  {
   "cell_type": "code",
   "execution_count": 74,
   "id": "56c54c1a",
   "metadata": {},
   "outputs": [
    {
     "data": {
      "text/plain": [
       "LeveneResult(statistic=0.0013780711165228094, pvalue=0.9706110878868098)"
      ]
     },
     "execution_count": 74,
     "metadata": {},
     "output_type": "execute_result"
    }
   ],
   "source": [
    "st.levene(jun, jul, center='median')"
   ]
  },
  {
   "cell_type": "markdown",
   "id": "6fcf81cd",
   "metadata": {},
   "source": [
    "Мы видим аналогичную ситуацию с нормальным распределением и тестом Левена.-> Также можем провести т-тест."
   ]
  },
  {
   "cell_type": "markdown",
   "id": "c111f0f6",
   "metadata": {},
   "source": [
    "**Нулевая гипотеза:** Статистически значимые различия между доходом от 22 июня и от 5 июля отсутствуют.\n",
    "    \n",
    "**Альтернативная гипотеза:** Статистически значимые различия между доходом от 22 июня и от 5 июля существуют."
   ]
  },
  {
   "cell_type": "code",
   "execution_count": 75,
   "id": "748b9f8e",
   "metadata": {},
   "outputs": [
    {
     "name": "stdout",
     "output_type": "stream",
     "text": [
      "p-значение: 0.13778244810518914\n",
      "Не получилось отвергнуть нулевую гипотезу\n"
     ]
    }
   ],
   "source": [
    "# Втрая гипотеза\n",
    "\n",
    "results = st.ttest_ind(\n",
    "    june, \n",
    "    july)\n",
    "\n",
    "print('p-значение:', results.pvalue)\n",
    "\n",
    "if results.pvalue < alpha:\n",
    "    print(\"Отвергаем нулевую гипотезу\")\n",
    "else:\n",
    "    print(\"Не получилось отвергнуть нулевую гипотезу\")"
   ]
  },
  {
   "cell_type": "markdown",
   "id": "a038ec36",
   "metadata": {},
   "source": [
    "Т-критерий Стьюдента показал, что статистически значимых различий между доходом от самых прибыльных дней - нет, то есть между 5 июля и 22 июня."
   ]
  },
  {
   "cell_type": "markdown",
   "id": "b43c1f08",
   "metadata": {},
   "source": [
    "**Проведение двустороннего дисперсионного анализа0**"
   ]
  },
  {
   "cell_type": "markdown",
   "id": "02dc2afc",
   "metadata": {},
   "source": [
    "Проведем двусторонний ANOVA, возьмем доход за зависимую переменную и посмотрим, как на нее влияет месяц и день недели."
   ]
  },
  {
   "cell_type": "code",
   "execution_count": 76,
   "id": "a3cad0f9",
   "metadata": {},
   "outputs": [
    {
     "name": "stdout",
     "output_type": "stream",
     "text": [
      "                         sum_sq     df         F    PR(>F)\n",
      "C(week_day_ended)  5.253439e+08    6.0  4.600790  0.000238\n",
      "C(month)           5.007775e+07    1.0  2.631387  0.106657\n",
      "Residual           3.178166e+09  167.0       NaN       NaN\n"
     ]
    }
   ],
   "source": [
    "# Проведение двустороннего дисперсионного анализа\n",
    "model = ols('income ~ C(week_day_ended) + C(month)', data=data).fit()\n",
    "anova_table = sm.stats.anova_lm(model, typ=2)\n",
    "\n",
    "print(anova_table)"
   ]
  },
  {
   "cell_type": "markdown",
   "id": "bb1f60b7",
   "metadata": {},
   "source": [
    "Интерпретация результатов :\n",
    "\n",
    " - Последний столбец показывает p- уровень значимости. День недели p-value < 0,05. Следовательно, фактор дня недели оказывает статистически значимый результат. \n",
    " - А вот p- уровень значимости для месяца >0,05. Получается, что фактор месяца в данном случае никак не влияет на доход."
   ]
  },
  {
   "cell_type": "code",
   "execution_count": 77,
   "id": "a550b1fe",
   "metadata": {},
   "outputs": [
    {
     "data": {
      "text/html": [
       "<h1>Выводы:</h1>"
      ],
      "text/plain": [
       "<IPython.core.display.HTML object>"
      ]
     },
     "metadata": {},
     "output_type": "display_data"
    },
    {
     "name": "stdout",
     "output_type": "stream",
     "text": [
      "\n",
      " - Данные для анализа находятся в промежутке с 2023-06-16 по 2023-07-07, то есть \u001b[1m21\u001b[0m день.\n",
      "\n",
      " - Thursday самый \u001b[1mдоходный\u001b[0m день - 255480 руб. было заработано в эти дни, а Tuesday и Monday \u001b[1mнаименее прибыльны\u001b[0m - 99230 и 110130 рублей соответсвенно было получены в каждый из дней.\n",
      "\n",
      " - В разрезе дней 06-22 и 07-05 - самые \u001b[1mприбыльные дни\u001b[0m 135860 р. и 134700 р. соответсвенно. \u001b[1mМеньше всего дохода\u001b[0m пришло 06-20 и 06-19, 1600 и 6400 рублей соответственно.\n",
      "\n",
      " - \u001b[1mНаибольший доход\u001b[0m принес \u001b[1mпроект\u001b[0m логотип - 608520 р., что составило почти  50.59% от общей выручки. На втором месте по доходности оказался проект чат-бот - 234600 р., что составило 19.5% от всей зп. \u001b[1mНаименее доходными\u001b[0m оказались проекты : визитка и баннер.\n",
      "\n",
      " - за 6-й месяц было выполнено - 109 проектов, а за  7-й было выполнено 66 проектов\n",
      "\n",
      " - \u001b[1mПиковое значение\u001b[0m по количеству выполненных \u001b[1mпроектов\u001b[0m приходится на 2023-07-05.\u001b[1mМеньше всего проектов\u001b[0m было сделано 2023-06-20. Размах составляет 20.0 проектов. В среднем в день было выполнено 7.95 проектов. \n",
      "\n",
      " - Monday - тяжелый день, на него приходится наибольшее кол-во работы. А меньше всего проектов ревьюер проверяет в Saturday и в Tuesday.\n",
      "\n",
      " - Мы видим, что \u001b[1mпиковые дни\u001b[0m по кол-ву проектов приходятся на 2023-07-05, то есть 13830, и 2023-06-22 - 5320.\n",
      "\n",
      " -  В среднем \u001b[1mв день\u001b[0m 1 проект приносит 6872.97 рублей\n",
      "\n",
      " -  В среднем \u001b[1mза день\u001b[0m выполняется 8.33 проектов\n",
      "\n",
      " -  В среднем \u001b[1mза неделю\u001b[0m выполняется 58.33 проектов\n",
      "\n",
      " - \u001b[1mЗП\u001b[0m за 21 день составила - 1202770 руб. без учета налога. \u001b[1mС учетом налога\u001b[0m: 1130603.8. В среднем получается, что \u001b[1mнедельный заработок\u001b[0m составил 400923 руб, а \u001b[1mдневной\u001b[0m - 57274.76190476191 руб.\n",
      "\n",
      " - \u001b[1mБольше всего выполнено проектов\u001b[0m таких как создание_сайта, а также логотип и facebook. Неприоритетными в этом отчетном периоде оказались: баннер, визитка и VK.\n"
     ]
    }
   ],
   "source": [
    "display(HTML(\"<h1>Выводы:</h1>\"))\n",
    "print()\n",
    "print(f' - Данные для анализа находятся в промежутке с {data.created.min().strftime(\"%Y-%m-%d\")} по {data.end_date.max().strftime(\"%Y-%m-%d\")}, то есть \\033[1m{days}\\033[0m день.')\n",
    "print()\n",
    "print(f' - {income_per_wd.index[0]} самый \\033[1mдоходный\\033[0m день - {income_per_wd.values[0]} руб. было заработано в эти дни, а {income_per_wd.index[-1]} и {income_per_wd.index[-2]} \\033[1mнаименее прибыльны\\033[0m - {income_per_wd.values[-1]} и {income_per_wd.values[-2]} рублей соответсвенно было получены в каждый из дней.')\n",
    "print()\n",
    "print(f' - В разрезе дней {income_per_d.index.strftime(\"%m-%d\")[0]} и {income_per_d.index.strftime(\"%m-%d\")[1]} - самые \\033[1mприбыльные дни\\033[0m {income_per_d.values[0]} р. и {income_per_d.values[1]} р. соответсвенно. \\033[1mМеньше всего дохода\\033[0m пришло {income_per_d.index.strftime(\"%m-%d\")[-1]} и {income_per_d.index.strftime(\"%m-%d\")[-2]}, {income_per_d.values[-1]} и {income_per_d.values[-2]} рублей соответственно.')\n",
    "print()\n",
    "print(f' - \\033[1mНаибольший доход\\033[0m принес \\033[1mпроект\\033[0m {profit.index[0]} - {profit.iat[0,1]} р., что составило почти  {round(profit.iat[0,2],2)}% от общей выручки. На втором месте по доходности оказался проект {profit.index[1]} - {profit.iat[1,1]} р., что составило {round(profit.iat[1,2],2)}% от всей зп. \\033[1mНаименее доходными\\033[0m оказались проекты : {profit.index[-1]} и {profit.index[-2]}.')\n",
    "print()\n",
    "print(f' - за {months.index[0]}-й месяц было выполнено - {months.values[0]} проектов, а за  {months.index[1]}-й было выполнено {months.values[1]} проектов')\n",
    "print()  \n",
    "print(f' - \\033[1mПиковое значение\\033[0m по количеству выполненных \\033[1mпроектов\\033[0m приходится на {dyn_per_days.index.strftime(\"%Y-%m-%d\")[0]}.\\033[1mМеньше всего проектов\\033[0m было сделано {dyn_per_days.index.strftime(\"%Y-%m-%d\")[-1]}. Размах составляет {round(dyn_per_days.values[0]/dyn_per_days.values[-1],2)} проектов. В среднем в день было выполнено {round(dyn_per_days.values.mean(),2)} проектов. ')\n",
    "print()\n",
    "print(f' - {count_of_pr_per_wd.index[0]} - тяжелый день, на него приходится наибольшее кол-во работы. А меньше всего проектов ревьюер проверяет в {count_of_pr_per_wd.index[-1]} и в {count_of_pr_per_wd.index[-2]}.')\n",
    "print()\n",
    "print(f' - Мы видим, что \\033[1mпиковые дни\\033[0m по кол-ву проектов приходятся на {clients.index.strftime(\"%Y-%m-%d\")[0]}, то есть {peak_days.iat[0,4]}, и {clients.index.strftime(\"%Y-%m-%d\")[1]} - {peak_days.iat[-1,4]}.')\n",
    "print()\n",
    "print(f' -  В среднем \\033[1mв день\\033[0m 1 проект приносит {round(sal_day/pr_day, 2)} рублей')\n",
    "print()\n",
    "print(f' -  В среднем \\033[1mза день\\033[0m выполняется {round(pr_day,2)} проектов')\n",
    "print()\n",
    "print(f' -  В среднем \\033[1mза неделю\\033[0m выполняется {round(pr_week,2)} проектов')\n",
    "print()\n",
    "print(f' - \\033[1mЗП\\033[0m за {days} день составила - {salary} руб. без учета налога. \\033[1mС учетом налога\\033[0m: {round(salary * 0.94,2)}. В среднем получается, что \\033[1mнедельный заработок\\033[0m составил {sal_week} руб, а \\033[1mдневной\\033[0m - {sal_day} руб.')\n",
    "print()\n",
    "print(f' - \\033[1mБольше всего выполнено проектов\\033[0m таких как {project.index[0]}, а также {project.index[1]} и {project.index[2]}. Неприоритетными в этом отчетном периоде оказались: {project.index[-1]}, {project.index[-2]} и {project.index[-3]}.')"
   ]
  }
 ],
 "metadata": {
  "kernelspec": {
   "display_name": "Python 3 (ipykernel)",
   "language": "python",
   "name": "python3"
  },
  "language_info": {
   "codemirror_mode": {
    "name": "ipython",
    "version": 3
   },
   "file_extension": ".py",
   "mimetype": "text/x-python",
   "name": "python",
   "nbconvert_exporter": "python",
   "pygments_lexer": "ipython3",
   "version": "3.10.7"
  }
 },
 "nbformat": 4,
 "nbformat_minor": 5
}
