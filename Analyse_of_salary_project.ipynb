{
 "cells": [
  {
   "cell_type": "markdown",
   "id": "e32a4738",
   "metadata": {},
   "source": [
    "# Проект по анализу ЗП."
   ]
  },
  {
   "cell_type": "markdown",
   "id": "e029c3c7",
   "metadata": {},
   "source": [
    "## Описание данных:"
   ]
  },
  {
   "cell_type": "markdown",
   "id": "a75f9c2d",
   "metadata": {},
   "source": [
    "Для анализа предоставлены данные о видах, стоимости каждой услуги одного из сотрудников Graph Design компании.\n",
    "\n",
    "\n",
    "**Виды услуг:**\n",
    " - Создание сайта,\n",
    " - Логотип, \n",
    " - Инстаграм,\n",
    " - Фейсбук, \n",
    " - Вконтакте,\n",
    " - Чат-бот,\n",
    " - Баннер,\n",
    " - Визитка\n",
    "\n",
    "**Стоимость проектов:**\n",
    " - Создание сайта - 1600 руб.\n",
    " - Логотип - 13831 руб.\n",
    " - Инстаграм - 7990 руб.\n",
    " - Фейсбук - 5320 руб.\n",
    " - Вконтакте - 7990 руб.\n",
    " - Чат-бот - 7820 руб.\n",
    " - Баннер - 2000 руб.\n",
    " - Визитка - 2000 руб.\n"
   ]
  },
  {
   "cell_type": "markdown",
   "id": "85256d83",
   "metadata": {},
   "source": [
    "**Названия столбцов:**\n",
    "\n",
    "\n",
    " - created - Клиент сделал заказ.\n",
    " - start_date - Проект взят в работу.\n",
    " - end_date\t- Проект отдан клиенту.\n",
    " - projects - Название проекта.\t"
   ]
  },
  {
   "cell_type": "markdown",
   "id": "19359dea",
   "metadata": {},
   "source": [
    "**Цель** проекта - проанализировать динамику заработной платы сотрудника, выявить определенные закономерности и тенденции, проиллюстрировать результаты с помощью инструментов визуализации."
   ]
  },
  {
   "cell_type": "markdown",
   "id": "930fd96f",
   "metadata": {},
   "source": [
    "## Обработка данных"
   ]
  },
  {
   "cell_type": "code",
   "execution_count": 1,
   "id": "d26d3215",
   "metadata": {},
   "outputs": [],
   "source": [
    "import pandas as pd\n",
    "import locale\n",
    "\n",
    "import datetime  \n",
    "from datetime import datetime\n",
    "\n",
    "from dateutil.relativedelta import relativedelta\n",
    "from datetime import date\n",
    "\n",
    "from plotly import graph_objects as go\n",
    "import matplotlib.pyplot as plt\n",
    "\n",
    "import plotly.express as px\n",
    "import warnings\n",
    "warnings.filterwarnings(\"ignore\")\n",
    "\n",
    "from IPython.display import display, HTML\n",
    "from scipy import stats as st\n",
    "\n",
    "import numpy as np\n",
    "import statsmodels.api as sm\n",
    "\n",
    "from statsmodels.formula.api import ols\n",
    "import plotly.io as pio"
   ]
  },
  {
   "cell_type": "code",
   "execution_count": null,
   "id": "963efc60",
   "metadata": {},
   "outputs": [],
   "source": [
    "data = pd.read_csv('design_data.csv')"
   ]
  },
  {
   "cell_type": "code",
   "execution_count": null,
   "id": "e8f9fb85",
   "metadata": {},
   "outputs": [],
   "source": [
    "def first_look (df):\n",
    "  '''Функция получения первичной информации о датафрейме'''\n",
    "  print ('------------- Первые 5 строк ------------')\n",
    "  display(df.head())\n",
    "  print('')\n",
    "  print('')\n",
    "  print ('------------- Типы данных ------------')\n",
    "  print (df.info())\n",
    "  print('')\n",
    "  print('')\n",
    "  print ('------------- Пропуски ------------')\n",
    "  count = 0\n",
    "  for element in df.columns:\n",
    "    if df[element].isna().sum() > 0: \n",
    "      print(element, ' - ', df[element].isna().sum(), 'пропусков')\n",
    "      count = +1\n",
    "  if count == 0:\n",
    "    print('Пропусков НЕТ')\n",
    "  print('')\n",
    "  print('')\n",
    "  print ('------------- Дубликаты ------------')\n",
    "  if df.duplicated().sum() > 0:\n",
    "    print('Дубликатов: ', df.duplicated().sum())\n",
    "  else:\n",
    "    print('Дубликатов НЕТ')"
   ]
  },
  {
   "cell_type": "code",
   "execution_count": null,
   "id": "54ac8ef1",
   "metadata": {},
   "outputs": [],
   "source": [
    "first_look(data)"
   ]
  },
  {
   "cell_type": "markdown",
   "id": "9b802398",
   "metadata": {},
   "source": [
    "По первой оценке данных видно, что столбцы с датами не приведены к нужному типу, так же как и названия столбцов."
   ]
  },
  {
   "cell_type": "code",
   "execution_count": null,
   "id": "f794c1e1",
   "metadata": {},
   "outputs": [],
   "source": [
    "data.columns = data.columns.str.lower()"
   ]
  },
  {
   "cell_type": "code",
   "execution_count": null,
   "id": "b7b38f9e",
   "metadata": {},
   "outputs": [],
   "source": [
    "data.head()"
   ]
  },
  {
   "cell_type": "code",
   "execution_count": null,
   "id": "f8c30287",
   "metadata": {},
   "outputs": [],
   "source": [
    "#Уберем предлог \"в\" и время, чтобы привести всю дату к единому формату.\n",
    "data['created'] = data['created'].str.split(' в').str[0]"
   ]
  },
  {
   "cell_type": "code",
   "execution_count": null,
   "id": "bc0a9c97",
   "metadata": {},
   "outputs": [],
   "source": [
    "locale.setlocale(\n",
    "    category=locale.LC_ALL,\n",
    "    locale=\"Russian\"\n",
    ")\n",
    "\n",
    "data['start_date'] = pd.to_datetime(data['start_date'], format = '%d %b %Y')\n",
    "data['end_date'] = pd.to_datetime(data['end_date'], format = '%d %b %Y')\n",
    "data['created'] = pd.to_datetime(data['end_date'], format = '%d %b %Y')"
   ]
  },
  {
   "cell_type": "code",
   "execution_count": null,
   "id": "611a662c",
   "metadata": {},
   "outputs": [],
   "source": [
    "data['created'].min()"
   ]
  },
  {
   "cell_type": "code",
   "execution_count": null,
   "id": "ee3e0a36",
   "metadata": {},
   "outputs": [],
   "source": [
    "data['end_date'].max()"
   ]
  },
  {
   "cell_type": "code",
   "execution_count": null,
   "id": "c55c3cc2",
   "metadata": {},
   "outputs": [],
   "source": [
    "days = data['end_date'].max()-data['created'].min()\n",
    "days = int(str(days).split(' ')[0])\n",
    "days"
   ]
  },
  {
   "cell_type": "code",
   "execution_count": null,
   "id": "c9356c87",
   "metadata": {},
   "outputs": [],
   "source": [
    "week = 7"
   ]
  },
  {
   "cell_type": "code",
   "execution_count": null,
   "id": "134ab583",
   "metadata": {},
   "outputs": [],
   "source": [
    "weeks = days/week\n",
    "weeks"
   ]
  },
  {
   "cell_type": "code",
   "execution_count": null,
   "id": "03ba513e",
   "metadata": {},
   "outputs": [],
   "source": [
    "print(f'Данные для анализа находятся в промежутке с {data.created.min().strftime(\"%Y-%m-%d\")} по {data.end_date.max().strftime(\"%Y-%m-%d\")}, то есть {days} день.')"
   ]
  },
  {
   "cell_type": "code",
   "execution_count": null,
   "id": "1d99809b",
   "metadata": {},
   "outputs": [],
   "source": [
    "project = data.projects.value_counts()\n",
    "project"
   ]
  },
  {
   "cell_type": "code",
   "execution_count": null,
   "id": "1aafba28",
   "metadata": {},
   "outputs": [],
   "source": [
    "print(f'Больше всего было выполнено проектов по проектам {project.index[0]}, а также {project.index[1]} и {project.index[2]}. Неприоритетными в этом отчетном периоде оказались: {project.index[-1]}, {project.index[-2]} и {project.index[-3]}.')"
   ]
  },
  {
   "cell_type": "markdown",
   "id": "664ed23b",
   "metadata": {},
   "source": [
    "Обратим внимание на стоимость проектов :\n",
    "\n",
    " - Логотип - 13831 руб.\n",
    " - Инстаграм - 7990 руб.\n",
    " - Вконтакте - 7990 руб.\n",
    " - Чат-бот - 7820 руб.\n",
    " - Фейсбук - 5320 руб.\n",
    " - Баннер - 2000 руб.\n",
    " - Визитка - 2000 руб.\n",
    " - Создание сайта - 1600 руб.\n",
    "\n",
    "Для максимизации прибыли необходимо выполнять проекты из первой 3-ки или 5-ки из списка стоимотей проектов. В 3-ке наиболее часто выполняемых проектов: сам проект - самый прибыльный, а также декомпозиция и Выпускной проект, которые соответствуют минимальной и средней стоимости соответственно. \n",
    "\n",
    "С точки зрения максимизации прибыли - ситуация может быть улучшена засчет решения проектов с большей стоимостью, однако на текущей вакансии присутствуют другие обязательные параметры выбора проектов, на которые сотрудник не может повлиять."
   ]
  },
  {
   "cell_type": "markdown",
   "id": "96e0dc70",
   "metadata": {},
   "source": [
    "## Расчеты"
   ]
  },
  {
   "cell_type": "markdown",
   "id": "bb145f3d",
   "metadata": {},
   "source": [
    "Напишем функцию для подсчета ЗП за текущий период."
   ]
  },
  {
   "cell_type": "code",
   "execution_count": null,
   "id": "679447a1",
   "metadata": {},
   "outputs": [],
   "source": [
    "prices = {\n",
    "    'создание_сайта': 1600,\n",
    "    'логотип': 13830,\n",
    "    'inst': 7990,\n",
    "    'facebook': 5320,\n",
    "    'VK': 7990,\n",
    "    'чат-бот': 7820,\n",
    "    'баннер': 2000,\n",
    "    'визитка': 2000\n",
    "}"
   ]
  },
  {
   "cell_type": "code",
   "execution_count": null,
   "id": "a403300e",
   "metadata": {},
   "outputs": [],
   "source": [
    "data['income'] = data['projects'].map(prices)"
   ]
  },
  {
   "cell_type": "code",
   "execution_count": null,
   "id": "8c0c3ff7",
   "metadata": {},
   "outputs": [],
   "source": [
    "salary = data['income'].sum()"
   ]
  },
  {
   "cell_type": "code",
   "execution_count": null,
   "id": "a94e2844",
   "metadata": {},
   "outputs": [],
   "source": [
    "print(f' Зарпалата за текущий период без учета налога = {salary}, ЗП с учетом налога = {round(salary * 0.94,2)} ')"
   ]
  },
  {
   "cell_type": "code",
   "execution_count": null,
   "id": "e168aa5c",
   "metadata": {},
   "outputs": [],
   "source": [
    "sal_week = round(salary/weeks)\n",
    "print(f'Средняя зарплата за неделю составляет {sal_week} рублей')"
   ]
  },
  {
   "cell_type": "code",
   "execution_count": null,
   "id": "e5b2e8f9",
   "metadata": {},
   "outputs": [],
   "source": [
    "sal_day = salary/days\n",
    "print(f'Средняя зарплата за день составляет {round(sal_day,2)} рублей')"
   ]
  },
  {
   "cell_type": "code",
   "execution_count": null,
   "id": "e7eb4ca8",
   "metadata": {},
   "outputs": [],
   "source": [
    "print(f'ЗП за {days} день составила - {salary} руб. без учета налога. С учетом налога: {round(salary * 0.94,2)}. В среднем получается, что недельный заработок составил {sal_week} руб, а дневной - {sal_day} руб.')"
   ]
  },
  {
   "cell_type": "code",
   "execution_count": null,
   "id": "6dea37ae",
   "metadata": {},
   "outputs": [],
   "source": [
    "all_pr = len(data.projects)\n",
    "print(f' Всего за {days} день было сделано {all_pr} проектов')"
   ]
  },
  {
   "cell_type": "code",
   "execution_count": null,
   "id": "2465e6f6",
   "metadata": {},
   "outputs": [],
   "source": [
    "pr_week = all_pr/3\n",
    "print(f' В среднем за неделю выполняется {round(pr_week,2)} проектов')"
   ]
  },
  {
   "cell_type": "code",
   "execution_count": null,
   "id": "d0ee47ed",
   "metadata": {},
   "outputs": [],
   "source": [
    "pr_day = all_pr/21\n",
    "print(f' В среднем за день выполняется {round(pr_day,2)} проектов')"
   ]
  },
  {
   "cell_type": "code",
   "execution_count": null,
   "id": "20def932",
   "metadata": {},
   "outputs": [],
   "source": [
    "print(f' В среднем в день 1 проект приносит {round(sal_day/pr_day, 2)} рублей')"
   ]
  },
  {
   "cell_type": "code",
   "execution_count": null,
   "id": "f0a82074",
   "metadata": {},
   "outputs": [],
   "source": [
    "accepted_pr = data.groupby('start_date')['projects'].count().sort_values(ascending = False)\n",
    "accepted_pr"
   ]
  },
  {
   "cell_type": "code",
   "execution_count": null,
   "id": "cd0d698c",
   "metadata": {},
   "outputs": [],
   "source": [
    "print(f'Больше всего проектов было принято {accepted_pr.index.strftime(\"%Y-%m-%d\")[0]}, а также {accepted_pr.index.strftime(\"%Y-%m-%d\")[1]} и {accepted_pr.index.strftime(\"%Y-%m-%d\")[2]} от {accepted_pr.values[0]} до {accepted_pr.values[2]} соответсвенно. Наименее активными оказались {accepted_pr.index.strftime(\"%Y-%m-%d\")[-1]} и {accepted_pr.index.strftime(\"%Y-%m-%d\")[-2]}, менее {accepted_pr.values[-2]} проектов  ')"
   ]
  },
  {
   "cell_type": "code",
   "execution_count": null,
   "id": "25107623",
   "metadata": {},
   "outputs": [],
   "source": [
    "completed_pr = data.groupby('end_date')['projects'].count().sort_values(ascending = False)\n",
    "completed_pr"
   ]
  },
  {
   "cell_type": "code",
   "execution_count": null,
   "id": "15747b28",
   "metadata": {},
   "outputs": [],
   "source": [
    "print(f'Завершено проектов больше всего было {completed_pr.index.strftime(\"%Y-%m-%d\")[0]} - {completed_pr.values[0]} проектов, а также {completed_pr.index.strftime(\"%Y-%m-%d\")[-1]}. Меньше всего проектов завершилось {completed_pr.index.strftime(\"%Y-%m-%d\")[-1]},{completed_pr.index.strftime(\"%Y-%m-%d\")[-2]} и {completed_pr.index.strftime(\"%Y-%m-%d\")[-3]}.')"
   ]
  },
  {
   "cell_type": "code",
   "execution_count": null,
   "id": "f235a609",
   "metadata": {},
   "outputs": [],
   "source": [
    "clients = data.groupby('created')['projects'].count().sort_values(ascending = False)\n",
    "clients"
   ]
  },
  {
   "cell_type": "code",
   "execution_count": null,
   "id": "23e4eb7a",
   "metadata": {},
   "outputs": [],
   "source": [
    "print(f'Клиенты тоже были активными {clients.index.strftime(\"%Y-%m-%d\")[0]} и прислали целых {clients.values[0]} проектов за день, {clients.index.strftime(\"%Y-%m-%d\")[1]} тоже был пик, но уже поменьше - {clients.values[1]} проектов. Меньше всего клиенты заказывали проекты в {clients.index.strftime(\"%Y-%m-%d\")[-1]},{clients.index.strftime(\"%Y-%m-%d\")[-2]} и {clients.index.strftime(\"%Y-%m-%d\")[-3]}  числах.')"
   ]
  },
  {
   "cell_type": "code",
   "execution_count": null,
   "id": "afbb77de",
   "metadata": {},
   "outputs": [],
   "source": [
    "print(f'Проанализировав активность отдельно по датам, можно сделать вывод, что дизайнер берет проект ,чаще всего, в тот же день, в какой его присылает заказчик. Определенный пик можно наблюдать {clients.index.strftime(\"%Y-%m-%d\")[0]} и {clients.index.strftime(\"%Y-%m-%d\")[1]}. Интересно, связано ли эта активность с днем недели.')"
   ]
  },
  {
   "cell_type": "code",
   "execution_count": null,
   "id": "005e2213",
   "metadata": {},
   "outputs": [],
   "source": [
    "data['week_day_started'] = data['start_date'].dt.day_name()\n",
    "data['week_day_created'] = data['created'].dt.day_name()\n",
    "data['week_day_ended'] = data['end_date'].dt.day_name()"
   ]
  },
  {
   "cell_type": "markdown",
   "id": "d880c7c4",
   "metadata": {},
   "source": [
    "Добавив колонку с днем недели для даты, когда клиент прислал проект, и для даты, когда дизайнер принял проект, теперь можно определить, в какой день недели наибольшая активность."
   ]
  },
  {
   "cell_type": "code",
   "execution_count": null,
   "id": "3f2faf5c",
   "metadata": {},
   "outputs": [],
   "source": [
    "data.head()"
   ]
  },
  {
   "cell_type": "code",
   "execution_count": null,
   "id": "282600a0",
   "metadata": {},
   "outputs": [],
   "source": [
    "peak_days = data[data.start_date.isin([clients.index[0], clients.index[1]])]\n",
    "peak_days.head()"
   ]
  },
  {
   "cell_type": "code",
   "execution_count": null,
   "id": "20d22c29",
   "metadata": {},
   "outputs": [],
   "source": [
    "print(f'Мы видим, что пиковые дни по кол-ву проектов приходятся на {clients.index.strftime(\"%Y-%m-%d\")[0]}, то есть {peak_days.iat[0,4]}, и {clients.index.strftime(\"%Y-%m-%d\")[1]} - {peak_days.iat[-1,4]}.')"
   ]
  },
  {
   "cell_type": "code",
   "execution_count": null,
   "id": "97cc127d",
   "metadata": {},
   "outputs": [],
   "source": [
    "count_of_pr_per_wd = data.groupby('week_day_started')['projects'].count().sort_values(ascending = False)\n",
    "count_of_pr_per_wd"
   ]
  },
  {
   "cell_type": "code",
   "execution_count": null,
   "id": "e4761c27",
   "metadata": {},
   "outputs": [],
   "source": [
    "print(f'{count_of_pr_per_wd.index[0]} - тяжелый день, на него приходится наибольшее кол-во работы. А меньше всего проектов ревьюер проверяет в {count_of_pr_per_wd.index[-1]} и в {count_of_pr_per_wd.index[-2]}.')"
   ]
  },
  {
   "cell_type": "code",
   "execution_count": null,
   "id": "cd6df8d5",
   "metadata": {},
   "outputs": [],
   "source": [
    "dyn_by_clients = data.groupby('week_day_created')['projects'].count().sort_values(ascending = False)\n",
    "dyn_by_clients"
   ]
  },
  {
   "cell_type": "code",
   "execution_count": null,
   "id": "f604086d",
   "metadata": {},
   "outputs": [],
   "source": [
    "print(f'А вот клиенты имеют другую динамику по заказу проектов. Явными лидерами стали - {dyn_by_clients.index[0], dyn_by_clients.index[1]}. Меньше всего проектов присылают в {dyn_by_clients.index[-1]}.')"
   ]
  },
  {
   "cell_type": "markdown",
   "id": "33574c25",
   "metadata": {},
   "source": [
    "## Визуализация"
   ]
  },
  {
   "cell_type": "markdown",
   "id": "97f9803d",
   "metadata": {},
   "source": [
    "**Дашборд по динамике количества выполненных проектов в разрезе дней**"
   ]
  },
  {
   "cell_type": "code",
   "execution_count": null,
   "id": "85b23321",
   "metadata": {},
   "outputs": [],
   "source": [
    "dynamics = data.groupby('week_day_ended')['projects'].count().sort_values(ascending = False )\n",
    "dynamics"
   ]
  },
  {
   "cell_type": "code",
   "execution_count": null,
   "id": "4acbd8af",
   "metadata": {},
   "outputs": [],
   "source": [
    "pio.renderers.default = \"svg\"\n",
    "svg_renderer = pio.renderers[\"svg\"]\n",
    "svg_renderer.scale = 1.2"
   ]
  },
  {
   "cell_type": "code",
   "execution_count": null,
   "id": "e4d62f8b",
   "metadata": {},
   "outputs": [],
   "source": [
    "fig_ = px.bar(dynamics, x=dynamics.index, y=dynamics, title='Динамика кол-ва выполненных проектов по дням недели', labels=dict(week_day_ended = 'день недели', y='кол-во выполненных проектов'))\n",
    "fig_.update_xaxes(tickangle=45) # повернём подписи по оси X на 50 градусов\n",
    "fig_.show(\"svg\")"
   ]
  },
  {
   "cell_type": "code",
   "execution_count": null,
   "id": "1ca01474",
   "metadata": {},
   "outputs": [],
   "source": [
    "print(f'Динамика выполнения проектов говорит о том, что пик завершенных проектов приходится на {dynamics.index[0]} и {dynamics.index[1]} - {dynamics.values[0]} и {dynamics.values[1]} проектов соответсвенно, к {dynamics.index[-0]} мы видим минимум выполненных проектов в статусе \"завершено\" - {dynamics.values[-1]} проектов, почти в {round(dynamics.values[0]/dynamics.values[-1],2)} раза меньше, чем пиковое значение. Следовательно можно выделить самые продуктивные дни - {dynamics.index[0]}, {dynamics.index[1]}. {dynamics.index[2]} и {dynamics.index[3]} тоже близки к пику - {dynamics.values[2]} и {dynamics.values[3]} проектов.')"
   ]
  },
  {
   "cell_type": "code",
   "execution_count": null,
   "id": "daf35fb2",
   "metadata": {},
   "outputs": [],
   "source": [
    "dyn_per_days = data.groupby('end_date')['projects'].count().sort_values(ascending = False)\n",
    "dyn_per_days"
   ]
  },
  {
   "cell_type": "code",
   "execution_count": null,
   "id": "715871d9",
   "metadata": {},
   "outputs": [],
   "source": [
    "fig = px.bar(dyn_per_days, x=dyn_per_days.index, y=dyn_per_days, title='Динамика кол-ва выполненных проектов датам', labels=dict(end_date = 'дата', y='кол-во выполненных проектов'))\n",
    "fig.update_xaxes(tickangle=50) # повенём подписи по оси X на 50 градусов\n",
    "fig.update_xaxes(tickangle=50, tickmode='linear', dtick='D1')\n",
    "fig.add_hline(y=dyn_per_days.values.mean(), line_width=3, line_dash=\"dash\", line_color=\"red\")\n",
    "fig.show(\"svg\")"
   ]
  },
  {
   "cell_type": "markdown",
   "id": "2eea0334",
   "metadata": {},
   "source": [
    "Среднее кол-во проектов за рассматриваемый период составляет около 8-ми проектов. То есть , переходя за отметку 8, сотрудник делает сверхнормы. Таких дней на графике мы видим - 9 из 21.\n",
    "  "
   ]
  },
  {
   "cell_type": "code",
   "execution_count": null,
   "id": "da7fa7ef",
   "metadata": {},
   "outputs": [],
   "source": [
    "print(f'Пиковое значение по количеству выполненных проектов приходится на {dyn_per_days.index.strftime(\"%Y-%m-%d\")[0]}.Меньше всего проектов было сделано {dyn_per_days.index.strftime(\"%Y-%m-%d\")[-1]}. Размах составляет {round(dyn_per_days.values[0]/dyn_per_days.values[-1],2)} проектов. В среднем в день было выполнено {round(dyn_per_days.values.mean(),2)} проектов. ')"
   ]
  },
  {
   "cell_type": "code",
   "execution_count": null,
   "id": "5c558d6a",
   "metadata": {},
   "outputs": [],
   "source": [
    "data['month'] = data['end_date'].dt.month"
   ]
  },
  {
   "cell_type": "code",
   "execution_count": null,
   "id": "af18bafe",
   "metadata": {},
   "outputs": [],
   "source": [
    "data.head()"
   ]
  },
  {
   "cell_type": "code",
   "execution_count": null,
   "id": "070d9412",
   "metadata": {},
   "outputs": [],
   "source": [
    "months = data.groupby('month')['projects'].count().sort_values(ascending = False )\n",
    "months\n",
    "print(f'за {months.index[0]}-й месяц было выполнено - {months.values[0]} проектов, а за  {months.index[1]}-й было выполнено {months.values[1]} проектов')"
   ]
  },
  {
   "cell_type": "code",
   "execution_count": null,
   "id": "ca85c7d6",
   "metadata": {},
   "outputs": [],
   "source": [
    "fig = go.Figure(data=[go.Pie(labels=months.index, values=months)])\n",
    "fig.update_layout(title_text='Кол-во выполненных проектов по месяцам', title_x= 0.5)\n",
    "fig.show(\"svg\") "
   ]
  },
  {
   "cell_type": "markdown",
   "id": "1f4337a7",
   "metadata": {},
   "source": [
    "**Дашборд по заработанной сумме в разрезе дней**"
   ]
  },
  {
   "cell_type": "code",
   "execution_count": null,
   "id": "9dba2dc5",
   "metadata": {},
   "outputs": [],
   "source": [
    "profit = data.groupby('projects')['income'].agg(['count','sum'])\n",
    "profit['%_of_salary'] = (profit['sum']/salary)*100\n",
    "profit = profit.sort_values('sum', ascending = False)\n",
    "profit"
   ]
  },
  {
   "cell_type": "code",
   "execution_count": null,
   "id": "dbf9b152",
   "metadata": {},
   "outputs": [],
   "source": [
    "fig3 = px.bar(profit, x=profit.index, y=profit['sum'], title='Динамика ЗП по проектам', labels=dict(home_task = 'название проекта', sum='ЗП'))\n",
    "fig3.update_xaxes(tickangle=50) # повернём подписи по оси X на 50 градусов\n",
    "fig3.add_hline(y=profit['sum'].mean(), line_width=3, line_dash=\"dash\", line_color=\"red\")\n",
    "fig3.show(\"svg\")"
   ]
  },
  {
   "cell_type": "code",
   "execution_count": null,
   "id": "3cfab755",
   "metadata": {},
   "outputs": [],
   "source": [
    "fig = go.Figure(data=[go.Pie(labels=profit.index, values=profit['%_of_salary'])])\n",
    "fig.update_layout(title_text='Распределение ЗП по проектам', title_x= 0.5)\n",
    "fig.show(\"svg\") "
   ]
  },
  {
   "cell_type": "code",
   "execution_count": null,
   "id": "2fad40b1",
   "metadata": {},
   "outputs": [],
   "source": [
    "print(f'Наибольший доход принес заказ  {profit.index[0]} - {profit.iat[0,1]} р., что составило почти  {round(profit.iat[0,2],2)}% от общей выручки. На втором месте по доходности оказался проект {profit.index[1]} - {profit.iat[1,1]} р., что составило {round(profit.iat[1,2],2)}% от всей зп. Наименее доходными оказались проекты : {profit.index[-1]} и {profit.index[-2]}, каждый из которых принес по {profit.iat[-1,1]} и {profit.iat[-2,1]} р. соответственно')"
   ]
  },
  {
   "cell_type": "code",
   "execution_count": null,
   "id": "f248f46b",
   "metadata": {},
   "outputs": [],
   "source": [
    "income_per_d = data.groupby('end_date')['income'].sum().sort_values(ascending = False)\n",
    "income_per_d"
   ]
  },
  {
   "cell_type": "code",
   "execution_count": null,
   "id": "f7303a52",
   "metadata": {},
   "outputs": [],
   "source": [
    "fig2 = px.bar(income_per_d, x=income_per_d.index, y=income_per_d, title='Динамика по заработанной сумме в разрезе дней', labels=dict(end_date = 'дата', y='доход'))\n",
    "fig2.update_xaxes(tickangle=45) \n",
    "fig2.add_hline(y=income_per_d.values.mean(), line_width=3, line_dash=\"dash\", line_color=\"red\")\n",
    "fig2.update_xaxes(tickangle=50, tickmode='linear', dtick='D1')\n",
    "fig2.show(\"svg\")"
   ]
  },
  {
   "cell_type": "markdown",
   "id": "f7b005b3",
   "metadata": {},
   "source": [
    "Говоря о прогнозах на будущее, на основе текущих данных, можно сказать, что постепенно уровень ЗП будет выравниваться до среднего уровня, будет меньше отклонений\\аномальных значений, выше или ниже нормы. Мы по-прежнему будем наблюдать пиковые значения, так как в определенные дни скапливаются все проекты, которые нужно закрыть, и именно за этот день считается прибыль."
   ]
  },
  {
   "cell_type": "code",
   "execution_count": null,
   "id": "d5313ee1",
   "metadata": {},
   "outputs": [],
   "source": [
    "print(f'В разрезе дней {income_per_d.index.strftime(\"%m-%d\")[0]} и {income_per_d.index.strftime(\"%m-%d\")[1]} - самые прибыльные дни {income_per_d.values[0]} р. и {income_per_d.values[1]} р. соответственно. Меньше всего дохода пришло {income_per_d.index.strftime(\"%m-%d\")[-1]} и {income_per_d.index.strftime(\"%m-%d\")[-2]}, {income_per_d.values[-1]} и {income_per_d.values[-2]} рублей соответственно.')"
   ]
  },
  {
   "cell_type": "code",
   "execution_count": null,
   "id": "942b820e",
   "metadata": {},
   "outputs": [],
   "source": [
    "print(f'Средний доход в день составляет примерно {round(income_per_d.values.mean(),2)} рублей, следовательно выше этой суммы сотрудник делает работу сверхнормы')"
   ]
  },
  {
   "cell_type": "code",
   "execution_count": null,
   "id": "a1d11b0d",
   "metadata": {},
   "outputs": [],
   "source": [
    "income_per_wd = data.groupby('week_day_ended')['income'].sum().sort_values(ascending = False )\n",
    "income_per_wd"
   ]
  },
  {
   "cell_type": "code",
   "execution_count": null,
   "id": "c13b3034",
   "metadata": {},
   "outputs": [],
   "source": [
    "fig4 = px.bar(income_per_wd, x=income_per_wd.index, y=income_per_wd, title='Динамика по заработанной сумме в разрезе дней недели', labels=dict(week_day_ended = 'дни недели', y='доход'))\n",
    "fig4.update_xaxes(tickangle=45) \n",
    "fig4.add_hline(y=income_per_wd.values.mean(), line_width=3, line_dash=\"dash\", line_color=\"red\")\n",
    "fig4.show(\"svg\")"
   ]
  },
  {
   "cell_type": "code",
   "execution_count": null,
   "id": "7fd4d770",
   "metadata": {},
   "outputs": [],
   "source": [
    "print(f'{income_per_wd.index[0]} самый доходный день - {income_per_wd.values[0]} руб. было заработано в эти дни, а {income_per_wd.index[-1]} и {income_per_wd.index[-2]} наименее прибыльны - {income_per_wd.values[-1]} и {income_per_wd.values[-2]} рублей соответсвенно было получены в каждый из дней. В среднем в эти дни в {round(income_per_wd.values[0]/((income_per_wd.values[-2]+income_per_wd.values[-1])/2),2)} раза меньше было заработка, чем в {income_per_wd.index[0]}')"
   ]
  },
  {
   "cell_type": "markdown",
   "id": "60171b1c",
   "metadata": {},
   "source": [
    "## Дашборды в Tableau"
   ]
  },
  {
   "cell_type": "markdown",
   "id": "0102d9a6",
   "metadata": {},
   "source": [
    "Динамика прибыли и кол-ва проектов в разрезе дней"
   ]
  },
  {
   "cell_type": "markdown",
   "id": "f385f634",
   "metadata": {},
   "source": [
    "https://public.tableau.com/app/profile/.25533259/viz/1_16907949848390/Dashboard1?publish=yes"
   ]
  },
  {
   "cell_type": "markdown",
   "id": "738ed6a8",
   "metadata": {},
   "source": [
    "Динамика по доходу и кол-ву выполненных проектов в разрезе дат и вида проектов"
   ]
  },
  {
   "cell_type": "markdown",
   "id": "4a663d08",
   "metadata": {},
   "source": [
    "https://public.tableau.com/app/profile/.25533259/viz/2_16907950449170/Dashboard2?publish=yes"
   ]
  },
  {
   "cell_type": "markdown",
   "id": "b63a7169",
   "metadata": {},
   "source": [
    "## Статистика"
   ]
  },
  {
   "cell_type": "markdown",
   "id": "59f1c1bc",
   "metadata": {},
   "source": [
    "**Проверка гипотез с помощью т-теста**"
   ]
  },
  {
   "cell_type": "markdown",
   "id": "ee170aca",
   "metadata": {},
   "source": [
    "За представленный период воскресенья и среды принесли похожий доход: 22 и 19,9 тысяч соответсвенно. Рассмотрим существующие различия с точки зрения статистики."
   ]
  },
  {
   "cell_type": "markdown",
   "id": "a6e48595",
   "metadata": {},
   "source": [
    "Для проверки гипотез используем т-критерий, так как именно он помогает сравнить две выборки между собой на предмет статистически значимых различий. Из существующих уровней значимости выберем 0,05, то есть существует 5% того, что результат обусловлен случайностью."
   ]
  },
  {
   "cell_type": "markdown",
   "id": "288a94cf",
   "metadata": {},
   "source": [
    "Для использования т-теста необходимы 2 условия:\n",
    "\n",
    " - гомогенность дисперсий\n",
    " \n",
    " - Нормальность распределения в группах "
   ]
  },
  {
   "cell_type": "markdown",
   "id": "d81afb26",
   "metadata": {},
   "source": [
    "Проверим для начала распределение в группах на **нормальность:**"
   ]
  },
  {
   "cell_type": "code",
   "execution_count": null,
   "id": "82464005",
   "metadata": {},
   "outputs": [],
   "source": [
    "wed = data[data['week_day_ended']=='Wednesday']['income']\n",
    "sun = data[data['week_day_ended']=='Sunday']['income']"
   ]
  },
  {
   "cell_type": "code",
   "execution_count": null,
   "id": "d319407c",
   "metadata": {},
   "outputs": [],
   "source": [
    "wednesday = wed.values\n",
    "\n",
    "# Построение QQ-plot\n",
    "st.probplot(wednesday, dist=\"norm\", plot=plt)\n",
    "\n",
    "plt.xlabel('Теоретические квантили')\n",
    "plt.ylabel('Наблюдаемые квантили')\n",
    "plt.title('QQ-plot')\n",
    "\n",
    "\n",
    "plt.show()"
   ]
  },
  {
   "cell_type": "code",
   "execution_count": null,
   "id": "70f4116f",
   "metadata": {},
   "outputs": [],
   "source": [
    "sunday = sun.values\n",
    "\n",
    "# Построение QQ-plot\n",
    "st.probplot(sunday, dist=\"norm\", plot=plt)\n",
    "\n",
    "plt.xlabel('Теоретические квантили')\n",
    "plt.ylabel('Наблюдаемые квантили')\n",
    "plt.title('QQ-plot')\n",
    "\n",
    "\n",
    "plt.show()"
   ]
  },
  {
   "cell_type": "markdown",
   "id": "44ed88ce",
   "metadata": {},
   "source": [
    "Нам известно, что графики построены по ценам на проекты, поэтому данные распределены ценовыми сегментами в районе 250 , 750 и 1300. Учитывая специфику данных, отклонение от диагонали не так критичны. Следовательно, мы можем использовать данные для проведения т-теста."
   ]
  },
  {
   "cell_type": "markdown",
   "id": "47d2f184",
   "metadata": {},
   "source": [
    "Проверим данные на **гомогенность дисперсий** с помощью теста Левена:"
   ]
  },
  {
   "cell_type": "code",
   "execution_count": null,
   "id": "9bed69aa",
   "metadata": {},
   "outputs": [],
   "source": [
    "st.levene(wednesday, sunday, center='median')"
   ]
  },
  {
   "cell_type": "markdown",
   "id": "9cbbf91e",
   "metadata": {},
   "source": [
    "P - value имеет показатель > 0,05. Следовательно, мы не отвергаем гипотезу о равенстве дисперсий. Таким образом, параметр о гомогенности дисперсий соблден. -> Можем проводить т-тест."
   ]
  },
  {
   "cell_type": "markdown",
   "id": "a95b7805",
   "metadata": {},
   "source": [
    "**Нулевая гипотеза:** Статистически значимые различия между доходом от сред и вскр-й отсутствуют.\n",
    "    \n",
    "**Альтернативная гипотеза:** Статистически значимые различия между доходом от сред и от вскр-й существуют."
   ]
  },
  {
   "cell_type": "code",
   "execution_count": null,
   "id": "4705a922",
   "metadata": {},
   "outputs": [],
   "source": [
    "# Первая гипотеза\n",
    "\n",
    "alpha = .05\n",
    "\n",
    "results = st.ttest_ind(\n",
    "    wed, \n",
    "    sun)\n",
    "\n",
    "print('p-значение:', results.pvalue)\n",
    "\n",
    "if results.pvalue < alpha:\n",
    "    print(\"Отвергаем нулевую гипотезу\")\n",
    "else:\n",
    "    print(\"Не получилось отвергнуть нулевую гипотезу\")"
   ]
  },
  {
   "cell_type": "markdown",
   "id": "ee8dc9d6",
   "metadata": {},
   "source": [
    "Т-криетрий Стьюдента показал, что статистически значимых различий между доходом от сред и воскресений нет."
   ]
  },
  {
   "cell_type": "markdown",
   "id": "7a1aa6b2",
   "metadata": {},
   "source": [
    "Рассмотрим еще две выборки. Доход за 22 июня и за 5 июля - за самые прибыльные дни. Есть ли между ними статистически значимые различия ?"
   ]
  },
  {
   "cell_type": "markdown",
   "id": "70e9a17c",
   "metadata": {},
   "source": [
    "Для проверки гипотез также используем т-критерий с аналогичным уровнем значимости и проверим аналогичным образом условия для проведения т-теста."
   ]
  },
  {
   "cell_type": "code",
   "execution_count": null,
   "id": "746170a0",
   "metadata": {},
   "outputs": [],
   "source": [
    "june = data[data['end_date']=='2023-06-22']['income']\n",
    "july = data[data['end_date']=='2023-07-05']['income']"
   ]
  },
  {
   "cell_type": "code",
   "execution_count": null,
   "id": "d5a96a05",
   "metadata": {},
   "outputs": [],
   "source": [
    "jun = june.values\n",
    "\n",
    "# Построение QQ-plot\n",
    "st.probplot(jun, dist=\"norm\", plot=plt)\n",
    "\n",
    "plt.xlabel('Теоретические квантили')\n",
    "plt.ylabel('Наблюдаемые квантили')\n",
    "plt.title('QQ-plot')\n",
    "\n",
    "\n",
    "plt.show()"
   ]
  },
  {
   "cell_type": "code",
   "execution_count": null,
   "id": "15653675",
   "metadata": {},
   "outputs": [],
   "source": [
    "jul = july.values\n",
    "\n",
    "# Построение QQ-plot\n",
    "st.probplot(jul, dist=\"norm\", plot=plt)\n",
    "\n",
    "plt.xlabel('Теоретические квантили')\n",
    "plt.ylabel('Наблюдаемые квантили')\n",
    "plt.title('QQ-plot')\n",
    "\n",
    "\n",
    "plt.show()"
   ]
  },
  {
   "cell_type": "code",
   "execution_count": null,
   "id": "56c54c1a",
   "metadata": {},
   "outputs": [],
   "source": [
    "st.levene(jun, jul, center='median')"
   ]
  },
  {
   "cell_type": "markdown",
   "id": "6fcf81cd",
   "metadata": {},
   "source": [
    "Мы видим аналогичную ситуацию с нормальным распределением и тестом Левена.-> Также можем провести т-тест."
   ]
  },
  {
   "cell_type": "markdown",
   "id": "c111f0f6",
   "metadata": {},
   "source": [
    "**Нулевая гипотеза:** Статистически значимые различия между доходом от 22 июня и от 5 июля отсутствуют.\n",
    "    \n",
    "**Альтернативная гипотеза:** Статистически значимые различия между доходом от 22 июня и от 5 июля существуют."
   ]
  },
  {
   "cell_type": "code",
   "execution_count": null,
   "id": "748b9f8e",
   "metadata": {},
   "outputs": [],
   "source": [
    "# Втрая гипотеза\n",
    "\n",
    "results = st.ttest_ind(\n",
    "    june, \n",
    "    july)\n",
    "\n",
    "print('p-значение:', results.pvalue)\n",
    "\n",
    "if results.pvalue < alpha:\n",
    "    print(\"Отвергаем нулевую гипотезу\")\n",
    "else:\n",
    "    print(\"Не получилось отвергнуть нулевую гипотезу\")"
   ]
  },
  {
   "cell_type": "markdown",
   "id": "a038ec36",
   "metadata": {},
   "source": [
    "Т-критерий Стьюдента показал, что статистически значимых различий между доходом от самых прибыльных дней - нет, то есть между 5 июля и 22 июня."
   ]
  },
  {
   "cell_type": "markdown",
   "id": "b43c1f08",
   "metadata": {},
   "source": [
    "**Проведение двустороннего дисперсионного анализа0**"
   ]
  },
  {
   "cell_type": "markdown",
   "id": "02dc2afc",
   "metadata": {},
   "source": [
    "Проведем двусторонний ANOVA, возьмем доход за зависимую переменную и посмотрим, как на нее влияет месяц и день недели."
   ]
  },
  {
   "cell_type": "code",
   "execution_count": null,
   "id": "a3cad0f9",
   "metadata": {},
   "outputs": [],
   "source": [
    "# Проведение двустороннего дисперсионного анализа\n",
    "model = ols('income ~ C(week_day_ended) + C(month)', data=data).fit()\n",
    "anova_table = sm.stats.anova_lm(model, typ=2)\n",
    "\n",
    "print(anova_table)"
   ]
  },
  {
   "cell_type": "markdown",
   "id": "bb1f60b7",
   "metadata": {},
   "source": [
    "Интерпретация результатов :\n",
    "\n",
    " - Последний столбец показывает p- уровень значимости. День недели p-value < 0,05. Следовательно, фактор дня недели оказывает статистически значимый результат. \n",
    " - А вот p- уровень значимости для месяца >0,05. Получается, что фактор месяца в данном случае никак не влияет на доход."
   ]
  },
  {
   "cell_type": "code",
   "execution_count": null,
   "id": "a550b1fe",
   "metadata": {},
   "outputs": [],
   "source": [
    "display(HTML(\"<h1>Выводы:</h1>\"))\n",
    "print()\n",
    "print(f' - Данные для анализа находятся в промежутке с {data.created.min().strftime(\"%Y-%m-%d\")} по {data.end_date.max().strftime(\"%Y-%m-%d\")}, то есть \\033[1m{days}\\033[0m день.')\n",
    "print()\n",
    "print(f' - {income_per_wd.index[0]} самый \\033[1mдоходный\\033[0m день - {income_per_wd.values[0]} руб. было заработано в эти дни, а {income_per_wd.index[-1]} и {income_per_wd.index[-2]} \\033[1mнаименее прибыльны\\033[0m - {income_per_wd.values[-1]} и {income_per_wd.values[-2]} рублей соответсвенно было получены в каждый из дней.')\n",
    "print()\n",
    "print(f' - В разрезе дней {income_per_d.index.strftime(\"%m-%d\")[0]} и {income_per_d.index.strftime(\"%m-%d\")[1]} - самые \\033[1mприбыльные дни\\033[0m {income_per_d.values[0]} р. и {income_per_d.values[1]} р. соответсвенно. \\033[1mМеньше всего дохода\\033[0m пришло {income_per_d.index.strftime(\"%m-%d\")[-1]} и {income_per_d.index.strftime(\"%m-%d\")[-2]}, {income_per_d.values[-1]} и {income_per_d.values[-2]} рублей соответственно.')\n",
    "print()\n",
    "print(f' - \\033[1mНаибольший доход\\033[0m принес \\033[1mпроект\\033[0m {profit.index[0]} - {profit.iat[0,1]} р., что составило почти  {round(profit.iat[0,2],2)}% от общей выручки. На втором месте по доходности оказался проект {profit.index[1]} - {profit.iat[1,1]} р., что составило {round(profit.iat[1,2],2)}% от всей зп. \\033[1mНаименее доходными\\033[0m оказались проекты : {profit.index[-1]} и {profit.index[-2]}.')\n",
    "print()\n",
    "print(f' - за {months.index[0]}-й месяц было выполнено - {months.values[0]} проектов, а за  {months.index[1]}-й было выполнено {months.values[1]} проектов')\n",
    "print()  \n",
    "print(f' - \\033[1mПиковое значение\\033[0m по количеству выполненных \\033[1mпроектов\\033[0m приходится на {dyn_per_days.index.strftime(\"%Y-%m-%d\")[0]}.\\033[1mМеньше всего проектов\\033[0m было сделано {dyn_per_days.index.strftime(\"%Y-%m-%d\")[-1]}. Размах составляет {round(dyn_per_days.values[0]/dyn_per_days.values[-1],2)} проектов. В среднем в день было выполнено {round(dyn_per_days.values.mean(),2)} проектов. ')\n",
    "print()\n",
    "print(f' - {count_of_pr_per_wd.index[0]} - тяжелый день, на него приходится наибольшее кол-во работы. А меньше всего проектов ревьюер проверяет в {count_of_pr_per_wd.index[-1]} и в {count_of_pr_per_wd.index[-2]}.')\n",
    "print()\n",
    "print(f' - Мы видим, что \\033[1mпиковые дни\\033[0m по кол-ву проектов приходятся на {clients.index.strftime(\"%Y-%m-%d\")[0]}, то есть {peak_days.iat[0,4]}, и {clients.index.strftime(\"%Y-%m-%d\")[1]} - {peak_days.iat[-1,4]}.')\n",
    "print()\n",
    "print(f' -  В среднем \\033[1mв день\\033[0m 1 проект приносит {round(sal_day/pr_day, 2)} рублей')\n",
    "print()\n",
    "print(f' -  В среднем \\033[1mза день\\033[0m выполняется {round(pr_day,2)} проектов')\n",
    "print()\n",
    "print(f' -  В среднем \\033[1mза неделю\\033[0m выполняется {round(pr_week,2)} проектов')\n",
    "print()\n",
    "print(f' - \\033[1mЗП\\033[0m за {days} день составила - {salary} руб. без учета налога. \\033[1mС учетом налога\\033[0m: {round(salary * 0.94,2)}. В среднем получается, что \\033[1mнедельный заработок\\033[0m составил {sal_week} руб, а \\033[1mдневной\\033[0m - {sal_day} руб.')\n",
    "print()\n",
    "print(f' - \\033[1mБольше всего выполнено проектов\\033[0m таких как {project.index[0]}, а также {project.index[1]} и {project.index[2]}. Неприоритетными в этом отчетном периоде оказались: {project.index[-1]}, {project.index[-2]} и {project.index[-3]}.')"
   ]
  }
 ],
 "metadata": {
  "kernelspec": {
   "display_name": "Python 3 (ipykernel)",
   "language": "python",
   "name": "python3"
  },
  "language_info": {
   "codemirror_mode": {
    "name": "ipython",
    "version": 3
   },
   "file_extension": ".py",
   "mimetype": "text/x-python",
   "name": "python",
   "nbconvert_exporter": "python",
   "pygments_lexer": "ipython3",
   "version": "3.10.7"
  }
 },
 "nbformat": 4,
 "nbformat_minor": 5
}
